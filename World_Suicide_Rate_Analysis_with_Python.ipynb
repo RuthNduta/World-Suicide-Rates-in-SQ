{
  "nbformat": 4,
  "nbformat_minor": 0,
  "metadata": {
    "colab": {
      "name": "World Suicide Rate Analysis with Python",
      "provenance": [],
      "collapsed_sections": [],
      "include_colab_link": true
    },
    "kernelspec": {
      "name": "python3",
      "display_name": "Python 3"
    }
  },
  "cells": [
    {
      "cell_type": "markdown",
      "metadata": {
        "id": "view-in-github",
        "colab_type": "text"
      },
      "source": [
        "<a href=\"https://colab.research.google.com/github/RuthNduta/World-Suicide-Rates-in-SQL/blob/main/World_Suicide_Rate_Analysis_with_Python.ipynb\" target=\"_parent\"><img src=\"https://colab.research.google.com/assets/colab-badge.svg\" alt=\"Open In Colab\"/></a>"
      ]
    },
    {
      "cell_type": "markdown",
      "metadata": {
        "id": "3ulgLT8DKc3c"
      },
      "source": [
        "# **PYTHON DATA CLEANING, OUTLIERS AND ANALYTICS**"
      ]
    },
    {
      "cell_type": "markdown",
      "metadata": {
        "id": "j64lM347KyAc"
      },
      "source": [
        "# **1. Importing Libraries**"
      ]
    },
    {
      "cell_type": "code",
      "metadata": {
        "id": "Q34aNl60rBqg"
      },
      "source": [
        "# Importing the pandas library\n",
        "import pandas as pd\n",
        "\n",
        "# Importing the numpy library\n",
        "import numpy as np\n",
        "\n",
        "#Importing matplotlib\n",
        "import matplotlib.pyplot as plt\n",
        "\n",
        "# importing seaborn\n",
        "import seaborn as sns"
      ],
      "execution_count": 1,
      "outputs": []
    },
    {
      "cell_type": "markdown",
      "metadata": {
        "id": "Tz28ULSQHSId"
      },
      "source": [
        "# **2. Reading the Dataset from our CSV file**"
      ]
    },
    {
      "cell_type": "markdown",
      "metadata": {
        "id": "6VRGMflvLDko"
      },
      "source": [
        "The dataset we will use contains suicide cases from different countries in the world with different generations, age groups and other factors as outlined below."
      ]
    },
    {
      "cell_type": "code",
      "metadata": {
        "id": "v7wRNnC2cxf9",
        "colab": {
          "base_uri": "https://localhost:8080/",
          "height": 400
        },
        "outputId": "e03debda-a224-4b8c-f390-a994ca507520"
      },
      "source": [
        "#Reading the data from the CSV file and create the dataframe to be used\n",
        "df = pd.read_csv('/content/master.csv')\n",
        "df.head()"
      ],
      "execution_count": 2,
      "outputs": [
        {
          "output_type": "execute_result",
          "data": {
            "text/html": [
              "<div>\n",
              "<style scoped>\n",
              "    .dataframe tbody tr th:only-of-type {\n",
              "        vertical-align: middle;\n",
              "    }\n",
              "\n",
              "    .dataframe tbody tr th {\n",
              "        vertical-align: top;\n",
              "    }\n",
              "\n",
              "    .dataframe thead th {\n",
              "        text-align: right;\n",
              "    }\n",
              "</style>\n",
              "<table border=\"1\" class=\"dataframe\">\n",
              "  <thead>\n",
              "    <tr style=\"text-align: right;\">\n",
              "      <th></th>\n",
              "      <th>country</th>\n",
              "      <th>year</th>\n",
              "      <th>sex</th>\n",
              "      <th>age</th>\n",
              "      <th>suicides_no</th>\n",
              "      <th>population</th>\n",
              "      <th>suicides/100k pop</th>\n",
              "      <th>country-year</th>\n",
              "      <th>HDI for year</th>\n",
              "      <th>gdp_for_year ($)</th>\n",
              "      <th>gdp_per_capita ($)</th>\n",
              "      <th>generation</th>\n",
              "    </tr>\n",
              "  </thead>\n",
              "  <tbody>\n",
              "    <tr>\n",
              "      <th>0</th>\n",
              "      <td>Albania</td>\n",
              "      <td>1987.0</td>\n",
              "      <td>male</td>\n",
              "      <td>15-24 years</td>\n",
              "      <td>21.0</td>\n",
              "      <td>312900.0</td>\n",
              "      <td>6.71</td>\n",
              "      <td>Albania1987</td>\n",
              "      <td>NaN</td>\n",
              "      <td>2,156,624,900</td>\n",
              "      <td>796.0</td>\n",
              "      <td>Generation X</td>\n",
              "    </tr>\n",
              "    <tr>\n",
              "      <th>1</th>\n",
              "      <td>Albania</td>\n",
              "      <td>1987.0</td>\n",
              "      <td>male</td>\n",
              "      <td>35-54 years</td>\n",
              "      <td>16.0</td>\n",
              "      <td>308000.0</td>\n",
              "      <td>5.19</td>\n",
              "      <td>Albania1987</td>\n",
              "      <td>NaN</td>\n",
              "      <td>2,156,624,900</td>\n",
              "      <td>796.0</td>\n",
              "      <td>Silent</td>\n",
              "    </tr>\n",
              "    <tr>\n",
              "      <th>2</th>\n",
              "      <td>Albania</td>\n",
              "      <td>1987.0</td>\n",
              "      <td>female</td>\n",
              "      <td>15-24 years</td>\n",
              "      <td>14.0</td>\n",
              "      <td>289700.0</td>\n",
              "      <td>4.83</td>\n",
              "      <td>Albania1987</td>\n",
              "      <td>NaN</td>\n",
              "      <td>2,156,624,900</td>\n",
              "      <td>796.0</td>\n",
              "      <td>Generation X</td>\n",
              "    </tr>\n",
              "    <tr>\n",
              "      <th>3</th>\n",
              "      <td>Albania</td>\n",
              "      <td>1987.0</td>\n",
              "      <td>male</td>\n",
              "      <td>75+ years</td>\n",
              "      <td>1.0</td>\n",
              "      <td>21800.0</td>\n",
              "      <td>4.59</td>\n",
              "      <td>Albania1987</td>\n",
              "      <td>NaN</td>\n",
              "      <td>2,156,624,900</td>\n",
              "      <td>796.0</td>\n",
              "      <td>G.I. Generation</td>\n",
              "    </tr>\n",
              "    <tr>\n",
              "      <th>4</th>\n",
              "      <td>Albania</td>\n",
              "      <td>1987.0</td>\n",
              "      <td>male</td>\n",
              "      <td>25-34 years</td>\n",
              "      <td>9.0</td>\n",
              "      <td>274300.0</td>\n",
              "      <td>3.28</td>\n",
              "      <td>Albania1987</td>\n",
              "      <td>NaN</td>\n",
              "      <td>2,156,624,900</td>\n",
              "      <td>796.0</td>\n",
              "      <td>Boomers</td>\n",
              "    </tr>\n",
              "  </tbody>\n",
              "</table>\n",
              "</div>"
            ],
            "text/plain": [
              "   country    year  ... gdp_per_capita ($)       generation\n",
              "0  Albania  1987.0  ...              796.0     Generation X\n",
              "1  Albania  1987.0  ...              796.0           Silent\n",
              "2  Albania  1987.0  ...              796.0     Generation X\n",
              "3  Albania  1987.0  ...              796.0  G.I. Generation\n",
              "4  Albania  1987.0  ...              796.0          Boomers\n",
              "\n",
              "[5 rows x 12 columns]"
            ]
          },
          "metadata": {
            "tags": []
          },
          "execution_count": 2
        }
      ]
    },
    {
      "cell_type": "code",
      "metadata": {
        "id": "6_6Zx-R9fHMB",
        "colab": {
          "base_uri": "https://localhost:8080/"
        },
        "outputId": "c09c44d4-a30b-4bc4-b6b1-f804e3ec5dbc"
      },
      "source": [
        "df.shape"
      ],
      "execution_count": 3,
      "outputs": [
        {
          "output_type": "execute_result",
          "data": {
            "text/plain": [
              "(11009, 12)"
            ]
          },
          "metadata": {
            "tags": []
          },
          "execution_count": 3
        }
      ]
    },
    {
      "cell_type": "markdown",
      "metadata": {
        "id": "IADaWgWBHm3Z"
      },
      "source": [
        "# **3. Data Understanding**"
      ]
    },
    {
      "cell_type": "markdown",
      "metadata": {
        "id": "tJJzPS04K5jU"
      },
      "source": [
        "We might need to convert columns to the respective datatypes ie. columns we could convert them from string to float. This observation can be made by accessing information about the dataset."
      ]
    },
    {
      "cell_type": "code",
      "metadata": {
        "id": "WQqzooUwHpX1",
        "colab": {
          "base_uri": "https://localhost:8080/"
        },
        "outputId": "2a392ecf-4767-4968-ba66-3dcda19a65a7"
      },
      "source": [
        "#Getting the information about the dataset\n",
        "\n",
        "df.info()"
      ],
      "execution_count": 5,
      "outputs": [
        {
          "output_type": "stream",
          "text": [
            "<class 'pandas.core.frame.DataFrame'>\n",
            "RangeIndex: 11009 entries, 0 to 11008\n",
            "Data columns (total 12 columns):\n",
            " #   Column              Non-Null Count  Dtype  \n",
            "---  ------              --------------  -----  \n",
            " 0   country             11009 non-null  object \n",
            " 1   year                11008 non-null  float64\n",
            " 2   sex                 11008 non-null  object \n",
            " 3   age                 11008 non-null  object \n",
            " 4   suicides_no         11008 non-null  float64\n",
            " 5   population          11008 non-null  float64\n",
            " 6   suicides/100k pop   11008 non-null  float64\n",
            " 7   country-year        11008 non-null  object \n",
            " 8   HDI for year        3340 non-null   float64\n",
            " 9    gdp_for_year ($)   11008 non-null  object \n",
            " 10  gdp_per_capita ($)  11008 non-null  float64\n",
            " 11  generation          11008 non-null  object \n",
            "dtypes: float64(6), object(6)\n",
            "memory usage: 1.0+ MB\n"
          ],
          "name": "stdout"
        }
      ]
    },
    {
      "cell_type": "markdown",
      "metadata": {
        "id": "ehvQpIOTIGrZ"
      },
      "source": [
        "# **4. Data Cleaning**"
      ]
    },
    {
      "cell_type": "markdown",
      "metadata": {
        "id": "N0oLufDBLrs8"
      },
      "source": [
        "Let us perform data cleaning procedures below providing a documentation for our actions. We will perform as many data cleaning procedures as we think suitable for the various dimensions of data."
      ]
    },
    {
      "cell_type": "markdown",
      "metadata": {
        "id": "chRL2ROvIMiS"
      },
      "source": [
        "**4.1 Validity**"
      ]
    },
    {
      "cell_type": "code",
      "metadata": {
        "id": "cotveP9OIR98"
      },
      "source": [
        "#dropping the country-year column since we have years and country column\n",
        "df.drop('country-year', axis=1, inplace=True)"
      ],
      "execution_count": 6,
      "outputs": []
    },
    {
      "cell_type": "markdown",
      "metadata": {
        "id": "yM_CHOIFM2ym"
      },
      "source": [
        "**4.2 Accuracy**"
      ]
    },
    {
      "cell_type": "code",
      "metadata": {
        "id": "sqnRjA0NM6E1",
        "colab": {
          "base_uri": "https://localhost:8080/"
        },
        "outputId": "efb9f7a9-e20d-4652-9f53-01fae5779ea9"
      },
      "source": [
        "#Checking if there is any missing data without a country \n",
        "df.country.isna().sum()"
      ],
      "execution_count": 7,
      "outputs": [
        {
          "output_type": "execute_result",
          "data": {
            "text/plain": [
              "0"
            ]
          },
          "metadata": {
            "tags": []
          },
          "execution_count": 7
        }
      ]
    },
    {
      "cell_type": "markdown",
      "metadata": {
        "id": "EeVTrca8NiFp"
      },
      "source": [
        "**4.3 Completeness**"
      ]
    },
    {
      "cell_type": "code",
      "metadata": {
        "id": "lI6X_JVwNmAi",
        "colab": {
          "base_uri": "https://localhost:8080/"
        },
        "outputId": "5c78642e-ede1-4da5-935f-dad096b5277e"
      },
      "source": [
        "#identifying the the presence of the missing values\n",
        "df.isna().sum()"
      ],
      "execution_count": 8,
      "outputs": [
        {
          "output_type": "execute_result",
          "data": {
            "text/plain": [
              "country                  0\n",
              "year                     1\n",
              "sex                      1\n",
              "age                      1\n",
              "suicides_no              1\n",
              "population               1\n",
              "suicides/100k pop        1\n",
              "HDI for year          7669\n",
              " gdp_for_year ($)        1\n",
              "gdp_per_capita ($)       1\n",
              "generation               1\n",
              "dtype: int64"
            ]
          },
          "metadata": {
            "tags": []
          },
          "execution_count": 8
        }
      ]
    },
    {
      "cell_type": "code",
      "metadata": {
        "id": "m8xwt_54OBQi"
      },
      "source": [
        "#dropping the HDI for year since it has most missing values\n",
        "df.drop('HDI for year', axis=1, inplace=True)\n"
      ],
      "execution_count": 9,
      "outputs": []
    },
    {
      "cell_type": "code",
      "metadata": {
        "id": "tzDhWqgsOfma",
        "colab": {
          "base_uri": "https://localhost:8080/",
          "height": 383
        },
        "outputId": "fd174f48-e83c-4654-a833-1fff16d9e3ce"
      },
      "source": [
        "df.head()"
      ],
      "execution_count": 10,
      "outputs": [
        {
          "output_type": "execute_result",
          "data": {
            "text/html": [
              "<div>\n",
              "<style scoped>\n",
              "    .dataframe tbody tr th:only-of-type {\n",
              "        vertical-align: middle;\n",
              "    }\n",
              "\n",
              "    .dataframe tbody tr th {\n",
              "        vertical-align: top;\n",
              "    }\n",
              "\n",
              "    .dataframe thead th {\n",
              "        text-align: right;\n",
              "    }\n",
              "</style>\n",
              "<table border=\"1\" class=\"dataframe\">\n",
              "  <thead>\n",
              "    <tr style=\"text-align: right;\">\n",
              "      <th></th>\n",
              "      <th>country</th>\n",
              "      <th>year</th>\n",
              "      <th>sex</th>\n",
              "      <th>age</th>\n",
              "      <th>suicides_no</th>\n",
              "      <th>population</th>\n",
              "      <th>suicides/100k pop</th>\n",
              "      <th>gdp_for_year ($)</th>\n",
              "      <th>gdp_per_capita ($)</th>\n",
              "      <th>generation</th>\n",
              "    </tr>\n",
              "  </thead>\n",
              "  <tbody>\n",
              "    <tr>\n",
              "      <th>0</th>\n",
              "      <td>Albania</td>\n",
              "      <td>1987.0</td>\n",
              "      <td>male</td>\n",
              "      <td>15-24 years</td>\n",
              "      <td>21.0</td>\n",
              "      <td>312900.0</td>\n",
              "      <td>6.71</td>\n",
              "      <td>2,156,624,900</td>\n",
              "      <td>796.0</td>\n",
              "      <td>Generation X</td>\n",
              "    </tr>\n",
              "    <tr>\n",
              "      <th>1</th>\n",
              "      <td>Albania</td>\n",
              "      <td>1987.0</td>\n",
              "      <td>male</td>\n",
              "      <td>35-54 years</td>\n",
              "      <td>16.0</td>\n",
              "      <td>308000.0</td>\n",
              "      <td>5.19</td>\n",
              "      <td>2,156,624,900</td>\n",
              "      <td>796.0</td>\n",
              "      <td>Silent</td>\n",
              "    </tr>\n",
              "    <tr>\n",
              "      <th>2</th>\n",
              "      <td>Albania</td>\n",
              "      <td>1987.0</td>\n",
              "      <td>female</td>\n",
              "      <td>15-24 years</td>\n",
              "      <td>14.0</td>\n",
              "      <td>289700.0</td>\n",
              "      <td>4.83</td>\n",
              "      <td>2,156,624,900</td>\n",
              "      <td>796.0</td>\n",
              "      <td>Generation X</td>\n",
              "    </tr>\n",
              "    <tr>\n",
              "      <th>3</th>\n",
              "      <td>Albania</td>\n",
              "      <td>1987.0</td>\n",
              "      <td>male</td>\n",
              "      <td>75+ years</td>\n",
              "      <td>1.0</td>\n",
              "      <td>21800.0</td>\n",
              "      <td>4.59</td>\n",
              "      <td>2,156,624,900</td>\n",
              "      <td>796.0</td>\n",
              "      <td>G.I. Generation</td>\n",
              "    </tr>\n",
              "    <tr>\n",
              "      <th>4</th>\n",
              "      <td>Albania</td>\n",
              "      <td>1987.0</td>\n",
              "      <td>male</td>\n",
              "      <td>25-34 years</td>\n",
              "      <td>9.0</td>\n",
              "      <td>274300.0</td>\n",
              "      <td>3.28</td>\n",
              "      <td>2,156,624,900</td>\n",
              "      <td>796.0</td>\n",
              "      <td>Boomers</td>\n",
              "    </tr>\n",
              "  </tbody>\n",
              "</table>\n",
              "</div>"
            ],
            "text/plain": [
              "   country    year  ... gdp_per_capita ($)       generation\n",
              "0  Albania  1987.0  ...              796.0     Generation X\n",
              "1  Albania  1987.0  ...              796.0           Silent\n",
              "2  Albania  1987.0  ...              796.0     Generation X\n",
              "3  Albania  1987.0  ...              796.0  G.I. Generation\n",
              "4  Albania  1987.0  ...              796.0          Boomers\n",
              "\n",
              "[5 rows x 10 columns]"
            ]
          },
          "metadata": {
            "tags": []
          },
          "execution_count": 10
        }
      ]
    },
    {
      "cell_type": "markdown",
      "metadata": {
        "id": "DG4Qlh8zPrMv"
      },
      "source": [
        "**4.4 Consistency**"
      ]
    },
    {
      "cell_type": "code",
      "metadata": {
        "id": "wmHHB0p4PwHf",
        "colab": {
          "base_uri": "https://localhost:8080/"
        },
        "outputId": "ee95ddaf-9fef-42a1-ee55-1b2bde08d1eb"
      },
      "source": [
        "#checking for duplicates\n",
        "df.duplicated().sum()"
      ],
      "execution_count": 11,
      "outputs": [
        {
          "output_type": "execute_result",
          "data": {
            "text/plain": [
              "0"
            ]
          },
          "metadata": {
            "tags": []
          },
          "execution_count": 11
        }
      ]
    },
    {
      "cell_type": "markdown",
      "metadata": {
        "id": "iVxsEJ9uP98k"
      },
      "source": [
        "**4.5 Uniformity**"
      ]
    },
    {
      "cell_type": "code",
      "metadata": {
        "id": "SfoMFHUR_yVT",
        "colab": {
          "base_uri": "https://localhost:8080/",
          "height": 194
        },
        "outputId": "7f694189-fe41-4898-bb8f-2e98d5fb56d1"
      },
      "source": [
        "#Renaming column 'gdp_for_year ($): Gdp_for\n",
        "#to resolve syntax errors\n",
        "\n",
        "df.columns.values[7] = 'Gdp'\n",
        "\n",
        "#creating variable df1 for the renamed dataset\n",
        "df1 = df.rename(columns= {'country': 'Country', 'year': 'Year', 'sex': 'Sex', 'age': 'Age', \n",
        "                          'suicides_no': 'Suicides_no', 'population': 'Population', 'suicides/100k pop': 'Suicides_per_hundred_thousand_pop', \n",
        "                          'Gdp': 'Gdp_for_year', 'gdp_per_capita ($)': 'Gdp_per_capita', 'generation': 'Generation'})\n",
        "df1.head(2)"
      ],
      "execution_count": 12,
      "outputs": [
        {
          "output_type": "execute_result",
          "data": {
            "text/html": [
              "<div>\n",
              "<style scoped>\n",
              "    .dataframe tbody tr th:only-of-type {\n",
              "        vertical-align: middle;\n",
              "    }\n",
              "\n",
              "    .dataframe tbody tr th {\n",
              "        vertical-align: top;\n",
              "    }\n",
              "\n",
              "    .dataframe thead th {\n",
              "        text-align: right;\n",
              "    }\n",
              "</style>\n",
              "<table border=\"1\" class=\"dataframe\">\n",
              "  <thead>\n",
              "    <tr style=\"text-align: right;\">\n",
              "      <th></th>\n",
              "      <th>Country</th>\n",
              "      <th>Year</th>\n",
              "      <th>Sex</th>\n",
              "      <th>Age</th>\n",
              "      <th>Suicides_no</th>\n",
              "      <th>Population</th>\n",
              "      <th>Suicides_per_hundred_thousand_pop</th>\n",
              "      <th>Gdp_for_year</th>\n",
              "      <th>Gdp_per_capita</th>\n",
              "      <th>Generation</th>\n",
              "    </tr>\n",
              "  </thead>\n",
              "  <tbody>\n",
              "    <tr>\n",
              "      <th>0</th>\n",
              "      <td>Albania</td>\n",
              "      <td>1987.0</td>\n",
              "      <td>male</td>\n",
              "      <td>15-24 years</td>\n",
              "      <td>21.0</td>\n",
              "      <td>312900.0</td>\n",
              "      <td>6.71</td>\n",
              "      <td>2,156,624,900</td>\n",
              "      <td>796.0</td>\n",
              "      <td>Generation X</td>\n",
              "    </tr>\n",
              "    <tr>\n",
              "      <th>1</th>\n",
              "      <td>Albania</td>\n",
              "      <td>1987.0</td>\n",
              "      <td>male</td>\n",
              "      <td>35-54 years</td>\n",
              "      <td>16.0</td>\n",
              "      <td>308000.0</td>\n",
              "      <td>5.19</td>\n",
              "      <td>2,156,624,900</td>\n",
              "      <td>796.0</td>\n",
              "      <td>Silent</td>\n",
              "    </tr>\n",
              "  </tbody>\n",
              "</table>\n",
              "</div>"
            ],
            "text/plain": [
              "   Country    Year   Sex  ...   Gdp_for_year  Gdp_per_capita    Generation\n",
              "0  Albania  1987.0  male  ...  2,156,624,900           796.0  Generation X\n",
              "1  Albania  1987.0  male  ...  2,156,624,900           796.0        Silent\n",
              "\n",
              "[2 rows x 10 columns]"
            ]
          },
          "metadata": {
            "tags": []
          },
          "execution_count": 12
        }
      ]
    },
    {
      "cell_type": "code",
      "metadata": {
        "id": "0gGTv4BwPNkj",
        "colab": {
          "base_uri": "https://localhost:8080/",
          "height": 257
        },
        "outputId": "1b1ce3ed-d7f7-4782-c6d6-60b534670aa8"
      },
      "source": [
        "#Changing the datatype of the column Gdp_for_year and removing the commas\n",
        "df1['Gdp_for_year']=df1['Gdp_for_year'].str.replace(',','').astype('float')\n",
        "df1.head(3)"
      ],
      "execution_count": 13,
      "outputs": [
        {
          "output_type": "execute_result",
          "data": {
            "text/html": [
              "<div>\n",
              "<style scoped>\n",
              "    .dataframe tbody tr th:only-of-type {\n",
              "        vertical-align: middle;\n",
              "    }\n",
              "\n",
              "    .dataframe tbody tr th {\n",
              "        vertical-align: top;\n",
              "    }\n",
              "\n",
              "    .dataframe thead th {\n",
              "        text-align: right;\n",
              "    }\n",
              "</style>\n",
              "<table border=\"1\" class=\"dataframe\">\n",
              "  <thead>\n",
              "    <tr style=\"text-align: right;\">\n",
              "      <th></th>\n",
              "      <th>Country</th>\n",
              "      <th>Year</th>\n",
              "      <th>Sex</th>\n",
              "      <th>Age</th>\n",
              "      <th>Suicides_no</th>\n",
              "      <th>Population</th>\n",
              "      <th>Suicides_per_hundred_thousand_pop</th>\n",
              "      <th>Gdp_for_year</th>\n",
              "      <th>Gdp_per_capita</th>\n",
              "      <th>Generation</th>\n",
              "    </tr>\n",
              "  </thead>\n",
              "  <tbody>\n",
              "    <tr>\n",
              "      <th>0</th>\n",
              "      <td>Albania</td>\n",
              "      <td>1987.0</td>\n",
              "      <td>male</td>\n",
              "      <td>15-24 years</td>\n",
              "      <td>21.0</td>\n",
              "      <td>312900.0</td>\n",
              "      <td>6.71</td>\n",
              "      <td>2.156625e+09</td>\n",
              "      <td>796.0</td>\n",
              "      <td>Generation X</td>\n",
              "    </tr>\n",
              "    <tr>\n",
              "      <th>1</th>\n",
              "      <td>Albania</td>\n",
              "      <td>1987.0</td>\n",
              "      <td>male</td>\n",
              "      <td>35-54 years</td>\n",
              "      <td>16.0</td>\n",
              "      <td>308000.0</td>\n",
              "      <td>5.19</td>\n",
              "      <td>2.156625e+09</td>\n",
              "      <td>796.0</td>\n",
              "      <td>Silent</td>\n",
              "    </tr>\n",
              "    <tr>\n",
              "      <th>2</th>\n",
              "      <td>Albania</td>\n",
              "      <td>1987.0</td>\n",
              "      <td>female</td>\n",
              "      <td>15-24 years</td>\n",
              "      <td>14.0</td>\n",
              "      <td>289700.0</td>\n",
              "      <td>4.83</td>\n",
              "      <td>2.156625e+09</td>\n",
              "      <td>796.0</td>\n",
              "      <td>Generation X</td>\n",
              "    </tr>\n",
              "  </tbody>\n",
              "</table>\n",
              "</div>"
            ],
            "text/plain": [
              "   Country    Year     Sex  ...  Gdp_for_year  Gdp_per_capita    Generation\n",
              "0  Albania  1987.0    male  ...  2.156625e+09           796.0  Generation X\n",
              "1  Albania  1987.0    male  ...  2.156625e+09           796.0        Silent\n",
              "2  Albania  1987.0  female  ...  2.156625e+09           796.0  Generation X\n",
              "\n",
              "[3 rows x 10 columns]"
            ]
          },
          "metadata": {
            "tags": []
          },
          "execution_count": 13
        }
      ]
    },
    {
      "cell_type": "markdown",
      "metadata": {
        "id": "rho37As3sIWW"
      },
      "source": [
        "# **5. Outliers**"
      ]
    },
    {
      "cell_type": "code",
      "metadata": {
        "id": "Ecm7IzbEsPUY",
        "colab": {
          "base_uri": "https://localhost:8080/",
          "height": 252
        },
        "outputId": "0d09ef59-abbd-4546-bdcc-7841805cac4e"
      },
      "source": [
        "#Checking for outliers in the Suicides column based on the Countries\n",
        "import seaborn as sns\n",
        "import matplotlib.pyplot as plt\n",
        "\n",
        "plt.figure(figsize=(30,10))\n",
        "sns.boxplot(y='Suicides_no', x='Country', \n",
        "                 data=df1, \n",
        "                 palette=\"colorblind\",\n",
        "                 )"
      ],
      "execution_count": 14,
      "outputs": [
        {
          "output_type": "execute_result",
          "data": {
            "text/plain": [
              "<matplotlib.axes._subplots.AxesSubplot at 0x7fe467aa3898>"
            ]
          },
          "metadata": {
            "tags": []
          },
          "execution_count": 14
        },
        {
          "output_type": "display_data",
          "data": {
            "image/png": "[encoded data removed]",
            "text/plain": [
              "<Figure size 2160x720 with 1 Axes>"
            ]
          },
          "metadata": {
            "tags": [],
            "needs_background": "light"
          }
        }
      ]
    },
    {
      "cell_type": "code",
      "metadata": {
        "id": "-oEbKU8ovzZ9",
        "colab": {
          "base_uri": "https://localhost:8080/"
        },
        "outputId": "17dfe84f-8ebc-4615-d576-c5d0f428069a"
      },
      "source": [
        "#Removing outliers from the Suicides_no columns that is, the extreme cases\n",
        "df1.Suicides_no.astype = float\n",
        "Q1 = df1['Suicides_no'].quantile(0.25)\n",
        "Q3 = df1['Suicides_no'].quantile(0.75)\n",
        "IQR = Q3 - Q1    #IQR is interquartile range. \n",
        "\n",
        "filter = (df1['Suicides_no'] >= Q1 - 1.5 * IQR) & (df1['Suicides_no'] <= Q3 + 1.5 *IQR)\n",
        "\n",
        "# creating variable dfz for the removed outliers from the suicide column\n",
        "dfz = df1.loc[filter]\n",
        "dfz.shape\n"
      ],
      "execution_count": 15,
      "outputs": [
        {
          "output_type": "execute_result",
          "data": {
            "text/plain": [
              "(9622, 10)"
            ]
          },
          "metadata": {
            "tags": []
          },
          "execution_count": 15
        }
      ]
    },
    {
      "cell_type": "code",
      "metadata": {
        "id": "WCW_nCkPw2DH",
        "colab": {
          "base_uri": "https://localhost:8080/",
          "height": 358
        },
        "outputId": "5cd2cc94-ffec-4734-f816-0f5585641d7e"
      },
      "source": [
        "#Checking for outliears in the Gdp_for_year colunn based on the Countries if any\n",
        "plt.figure(figsize=(30,15))\n",
        "sns.boxplot(y='Gdp_for_year', x='Country', \n",
        "                 data=dfz, \n",
        "                 palette=\"colorblind\",\n",
        "                 )"
      ],
      "execution_count": 17,
      "outputs": [
        {
          "output_type": "execute_result",
          "data": {
            "text/plain": [
              "<matplotlib.axes._subplots.AxesSubplot at 0x7fe448c0a438>"
            ]
          },
          "metadata": {
            "tags": []
          },
          "execution_count": 17
        },
        {
          "output_type": "display_data",
          "data": {
            "image/png": "[encoded data removed]",
            "text/plain": [
              "<Figure size 2160x1080 with 1 Axes>"
            ]
          },
          "metadata": {
            "tags": [],
            "needs_background": "light"
          }
        }
      ]
    },
    {
      "cell_type": "code",
      "metadata": {
        "id": "y4CNeBaRB1g8",
        "colab": {
          "base_uri": "https://localhost:8080/"
        },
        "outputId": "7e66cbba-0ff8-43ab-e0d1-2d310047fc29"
      },
      "source": [
        "#Removing outliers from the Gdp_for_year columns that is, the extreme cases\n",
        "Q1 = dfz['Gdp_for_year'].quantile(0.25)\n",
        "Q3 = dfz['Gdp_for_year'].quantile(0.75)\n",
        "IQR = Q3 - Q1    #IQR is interquartile range. \n",
        "\n",
        "filter = (dfz['Gdp_for_year'] >= Q1 - 1.5 * IQR) & (dfz['Gdp_for_year'] <= Q3 + 1.5 *IQR)\n",
        "\n",
        "# creating variable dfq for the removed outliers from the suicide column\n",
        "dfq = dfz.loc[filter]\n",
        "dfq.shape"
      ],
      "execution_count": 18,
      "outputs": [
        {
          "output_type": "execute_result",
          "data": {
            "text/plain": [
              "(8760, 10)"
            ]
          },
          "metadata": {
            "tags": []
          },
          "execution_count": 18
        }
      ]
    },
    {
      "cell_type": "code",
      "metadata": {
        "id": "DLfzFv3pzPwj",
        "colab": {
          "base_uri": "https://localhost:8080/",
          "height": 351
        },
        "outputId": "a2dfa777-ca26-4ff4-a301-25a56a81462b"
      },
      "source": [
        "#Checking for outliers in the Gdp_per_capita colunn based on the Countries if there is any\n",
        "plt.figure(figsize=(30,15))\n",
        "sns.boxplot(y='Gdp_per_capita', x='Country', \n",
        "                 data=dfq, \n",
        "                 palette=\"colorblind\",\n",
        "                 )"
      ],
      "execution_count": 19,
      "outputs": [
        {
          "output_type": "execute_result",
          "data": {
            "text/plain": [
              "<matplotlib.axes._subplots.AxesSubplot at 0x7fe448981390>"
            ]
          },
          "metadata": {
            "tags": []
          },
          "execution_count": 19
        },
        {
          "output_type": "display_data",
          "data": {
            "image/png": "[encoded data removed]",
            "text/plain": [
              "<Figure size 2160x1080 with 1 Axes>"
            ]
          },
          "metadata": {
            "tags": [],
            "needs_background": "light"
          }
        }
      ]
    },
    {
      "cell_type": "code",
      "metadata": {
        "id": "YeNn8YKWBVNB",
        "colab": {
          "base_uri": "https://localhost:8080/"
        },
        "outputId": "dcb5193e-95b7-4d16-d32f-bb7fc9a559bd"
      },
      "source": [
        "#Removing outliers from the Gdp_per_capita columns that is, the extreme cases\n",
        "Q1 = dfq['Gdp_per_capita'].quantile(0.25)\n",
        "Q3 = dfq['Gdp_per_capita'].quantile(0.75)\n",
        "IQR = Q3 - Q1    #IQR is interquartile range. \n",
        "\n",
        "filter = (dfq['Gdp_per_capita'] >= Q1 - 1.5 * IQR) & (dfq['Gdp_per_capita'] <= Q3 + 1.5 *IQR)\n",
        "\n",
        "# creating variable df2 for the removed outliers from the suicide column\n",
        "df2 = dfq.loc[filter]\n",
        "df2.shape"
      ],
      "execution_count": 20,
      "outputs": [
        {
          "output_type": "execute_result",
          "data": {
            "text/plain": [
              "(8388, 10)"
            ]
          },
          "metadata": {
            "tags": []
          },
          "execution_count": 20
        }
      ]
    },
    {
      "cell_type": "code",
      "metadata": {
        "id": "V8ZVLsp5cquR",
        "colab": {
          "base_uri": "https://localhost:8080/"
        },
        "outputId": "47dcc74d-631a-4592-9885-c9095223a24e"
      },
      "source": [
        "#The original data shape before dropping the outliers\n",
        "df1.shape"
      ],
      "execution_count": 21,
      "outputs": [
        {
          "output_type": "execute_result",
          "data": {
            "text/plain": [
              "(11009, 10)"
            ]
          },
          "metadata": {
            "tags": []
          },
          "execution_count": 21
        }
      ]
    },
    {
      "cell_type": "code",
      "metadata": {
        "id": "Vk0mnc3Luzvy",
        "colab": {
          "base_uri": "https://localhost:8080/",
          "height": 294
        },
        "outputId": "2a8b70e7-250b-4996-d96b-e49b77420e74"
      },
      "source": [
        "#Creating a new column to calculate the rate of suicides per generation \n",
        "df2['Suicide_rate'] = (df2['Suicides_no']/df2['Population']*100)\n",
        "df2.head(2)"
      ],
      "execution_count": 22,
      "outputs": [
        {
          "output_type": "stream",
          "text": [
            "/usr/local/lib/python3.6/dist-packages/ipykernel_launcher.py:2: SettingWithCopyWarning: \n",
            "A value is trying to be set on a copy of a slice from a DataFrame.\n",
            "Try using .loc[row_indexer,col_indexer] = value instead\n",
            "\n",
            "See the caveats in the documentation: https://pandas.pydata.org/pandas-docs/stable/user_guide/indexing.html#returning-a-view-versus-a-copy\n",
            "  \n"
          ],
          "name": "stderr"
        },
        {
          "output_type": "execute_result",
          "data": {
            "text/html": [
              "<div>\n",
              "<style scoped>\n",
              "    .dataframe tbody tr th:only-of-type {\n",
              "        vertical-align: middle;\n",
              "    }\n",
              "\n",
              "    .dataframe tbody tr th {\n",
              "        vertical-align: top;\n",
              "    }\n",
              "\n",
              "    .dataframe thead th {\n",
              "        text-align: right;\n",
              "    }\n",
              "</style>\n",
              "<table border=\"1\" class=\"dataframe\">\n",
              "  <thead>\n",
              "    <tr style=\"text-align: right;\">\n",
              "      <th></th>\n",
              "      <th>Country</th>\n",
              "      <th>Year</th>\n",
              "      <th>Sex</th>\n",
              "      <th>Age</th>\n",
              "      <th>Suicides_no</th>\n",
              "      <th>Population</th>\n",
              "      <th>Suicides_per_hundred_thousand_pop</th>\n",
              "      <th>Gdp_for_year</th>\n",
              "      <th>Gdp_per_capita</th>\n",
              "      <th>Generation</th>\n",
              "      <th>Suicide_rate</th>\n",
              "    </tr>\n",
              "  </thead>\n",
              "  <tbody>\n",
              "    <tr>\n",
              "      <th>0</th>\n",
              "      <td>Albania</td>\n",
              "      <td>1987.0</td>\n",
              "      <td>male</td>\n",
              "      <td>15-24 years</td>\n",
              "      <td>21.0</td>\n",
              "      <td>312900.0</td>\n",
              "      <td>6.71</td>\n",
              "      <td>2.156625e+09</td>\n",
              "      <td>796.0</td>\n",
              "      <td>Generation X</td>\n",
              "      <td>0.006711</td>\n",
              "    </tr>\n",
              "    <tr>\n",
              "      <th>1</th>\n",
              "      <td>Albania</td>\n",
              "      <td>1987.0</td>\n",
              "      <td>male</td>\n",
              "      <td>35-54 years</td>\n",
              "      <td>16.0</td>\n",
              "      <td>308000.0</td>\n",
              "      <td>5.19</td>\n",
              "      <td>2.156625e+09</td>\n",
              "      <td>796.0</td>\n",
              "      <td>Silent</td>\n",
              "      <td>0.005195</td>\n",
              "    </tr>\n",
              "  </tbody>\n",
              "</table>\n",
              "</div>"
            ],
            "text/plain": [
              "   Country    Year   Sex  ... Gdp_per_capita    Generation  Suicide_rate\n",
              "0  Albania  1987.0  male  ...          796.0  Generation X      0.006711\n",
              "1  Albania  1987.0  male  ...          796.0        Silent      0.005195\n",
              "\n",
              "[2 rows x 11 columns]"
            ]
          },
          "metadata": {
            "tags": []
          },
          "execution_count": 22
        }
      ]
    },
    {
      "cell_type": "markdown",
      "metadata": {
        "id": "ie_riCAnuafi"
      },
      "source": [
        "## **6. Exporting cleaned dataset to CSV**"
      ]
    },
    {
      "cell_type": "code",
      "metadata": {
        "id": "POvYMkE2um4-"
      },
      "source": [
        "df2.to_csv('Suicide.csv')"
      ],
      "execution_count": 23,
      "outputs": []
    },
    {
      "cell_type": "markdown",
      "metadata": {
        "id": "tGsCKZgf1TE2"
      },
      "source": [
        "# **7. Analytics**"
      ]
    },
    {
      "cell_type": "code",
      "metadata": {
        "id": "DmrJzRhn1fX4",
        "colab": {
          "base_uri": "https://localhost:8080/"
        },
        "outputId": "841bfd7c-7274-4208-cfb8-c85b46073567"
      },
      "source": [
        "#1. identifying top 5 countries with the highest suicide cases in the world overall\n",
        "df3 = df2.groupby(['Country'])['Suicides_no'].sum().sort_values(ascending = False)\n",
        "df3.head()\n"
      ],
      "execution_count": 24,
      "outputs": [
        {
          "output_type": "execute_result",
          "data": {
            "text/plain": [
              "Country\n",
              "Bulgaria     29527.0\n",
              "Chile        27581.0\n",
              "Colombia     27149.0\n",
              "Argentina    26775.0\n",
              "Cuba         24092.0\n",
              "Name: Suicides_no, dtype: float64"
            ]
          },
          "metadata": {
            "tags": []
          },
          "execution_count": 24
        }
      ]
    },
    {
      "cell_type": "code",
      "metadata": {
        "id": "rJq3Ou6TST7J",
        "colab": {
          "base_uri": "https://localhost:8080/",
          "height": 262
        },
        "outputId": "ccfc56db-68ec-4531-c2e1-9ace2cc5ca0d"
      },
      "source": [
        "#plotting the scatter plot of the country with the most suicide cases \n",
        "df4b = df2.loc[df2['Country'] == 'Bulgaria']\n",
        "plt.figure(figsize=(15,5))\n",
        "plt.scatter(df4b.Year, df4b.Suicides_no, color = (0.5,0.1,0.5,0.6))\n",
        "plt.xlabel('Years')\n",
        "plt.ylabel('Suicide cases in numbers')\n"
      ],
      "execution_count": 25,
      "outputs": [
        {
          "output_type": "execute_result",
          "data": {
            "text/plain": [
              "Text(0, 0.5, 'Suicide cases in numbers')"
            ]
          },
          "metadata": {
            "tags": []
          },
          "execution_count": 25
        },
        {
          "output_type": "display_data",
          "data": {
            "image/png": "[encoded data removed]",
            "text/plain": [
              "<Figure size 1080x360 with 1 Axes>"
            ]
          },
          "metadata": {
            "tags": [],
            "needs_background": "light"
          }
        }
      ]
    },
    {
      "cell_type": "code",
      "metadata": {
        "id": "qvQ3w4Ou3yfg",
        "colab": {
          "base_uri": "https://localhost:8080/"
        },
        "outputId": "48b00541-e110-4541-a677-83f8c5039f4f"
      },
      "source": [
        "#2. identifying top 5 countries with the lowest suicide cases in the world on overall\n",
        "dfw = df2.groupby(['Country'])['Suicides_no'].sum()\n",
        "dfd = dfw.sort_values(ascending = True)\n",
        "dfd.head(10)"
      ],
      "execution_count": 26,
      "outputs": [
        {
          "output_type": "execute_result",
          "data": {
            "text/plain": [
              "Country\n",
              "Dominica                    0.0\n",
              "Antigua and Barbuda        11.0\n",
              "Grenada                    38.0\n",
              "Cabo Verde                 42.0\n",
              "Bahamas                    93.0\n",
              "Aruba                     101.0\n",
              "Barbados                  177.0\n",
              "Fiji                      304.0\n",
              "Bosnia and Herzegovina    318.0\n",
              "Belize                    348.0\n",
              "Name: Suicides_no, dtype: float64"
            ]
          },
          "metadata": {
            "tags": []
          },
          "execution_count": 26
        }
      ]
    },
    {
      "cell_type": "code",
      "metadata": {
        "id": "TF_jEiPb3_Yj",
        "colab": {
          "base_uri": "https://localhost:8080/"
        },
        "outputId": "c8594b0c-7e81-420e-e797-f4268f1fa890"
      },
      "source": [
        "#3(a). identifying the generation with the highest suicide cases on Overall \n",
        "df4 = df2.groupby(['Generation'])['Suicide_rate'].sum()\n",
        "df4 = df4.sort_values(ascending = False)\n",
        "df4.head()"
      ],
      "execution_count": 27,
      "outputs": [
        {
          "output_type": "execute_result",
          "data": {
            "text/plain": [
              "Generation\n",
              "Silent             23.892112\n",
              "G.I. Generation    19.831630\n",
              "Generation X       14.177935\n",
              "Boomers            12.234694\n",
              "Millenials          6.176117\n",
              "Name: Suicide_rate, dtype: float64"
            ]
          },
          "metadata": {
            "tags": []
          },
          "execution_count": 27
        }
      ]
    },
    {
      "cell_type": "code",
      "metadata": {
        "id": "TkGp_cXuUFRK",
        "colab": {
          "base_uri": "https://localhost:8080/"
        },
        "outputId": "4503247c-c25b-4c1f-acbe-40863814641e"
      },
      "source": [
        "#3(b). identifying the generation with the highest suicide cases before 2000\n",
        "dfzx = df2.loc[df2['Year'] < 2000]\n",
        "dfgh = dfzx.groupby(['Generation'])['Suicide_rate'].sum().sort_values(ascending = False)\n",
        "dfgh"
      ],
      "execution_count": 28,
      "outputs": [
        {
          "output_type": "execute_result",
          "data": {
            "text/plain": [
              "Generation\n",
              "G.I. Generation    18.292137\n",
              "Generation X        7.879564\n",
              "Boomers             6.957737\n",
              "Silent              5.828492\n",
              "Millenials          0.237581\n",
              "Name: Suicide_rate, dtype: float64"
            ]
          },
          "metadata": {
            "tags": []
          },
          "execution_count": 28
        }
      ]
    },
    {
      "cell_type": "code",
      "metadata": {
        "id": "IBftoOb5Uove",
        "colab": {
          "base_uri": "https://localhost:8080/"
        },
        "outputId": "dddb7da3-004d-4688-f831-aa49bced7514"
      },
      "source": [
        "#3(c). identifying the generation with the highest suicide cases after 2000\n",
        "dfzx2 = df2.loc[df2['Year'] >= 2000]\n",
        "dfgh = dfzx2.groupby(['Generation'])['Suicide_rate'].sum()\n",
        "dfgh = dfgh.sort_values(ascending = False)\n",
        "dfgh.head()"
      ],
      "execution_count": 29,
      "outputs": [
        {
          "output_type": "execute_result",
          "data": {
            "text/plain": [
              "Generation\n",
              "Silent             18.063620\n",
              "Generation X        6.298371\n",
              "Millenials          5.938536\n",
              "Boomers             5.276957\n",
              "G.I. Generation     1.539493\n",
              "Name: Suicide_rate, dtype: float64"
            ]
          },
          "metadata": {
            "tags": []
          },
          "execution_count": 29
        }
      ]
    },
    {
      "cell_type": "code",
      "metadata": {
        "id": "JegKPl8yQWV8",
        "colab": {
          "base_uri": "https://localhost:8080/",
          "height": 262
        },
        "outputId": "9f35b91f-31ae-4473-cf84-16696e6927d6"
      },
      "source": [
        "#plotting the bar graph of the generation with the most suicide cases after 2000\n",
        "dfy = dfzx2.loc[df2['Generation'] == 'Silent']\n",
        "plt.figure(figsize=(15,5))\n",
        "plt.bar(dfy.Year, dfy.Suicide_rate)\n",
        "plt.xlabel('Years')\n",
        "plt.ylabel('Suicide rates')\n"
      ],
      "execution_count": 30,
      "outputs": [
        {
          "output_type": "execute_result",
          "data": {
            "text/plain": [
              "Text(0, 0.5, 'Suicide rates')"
            ]
          },
          "metadata": {
            "tags": []
          },
          "execution_count": 30
        },
        {
          "output_type": "display_data",
          "data": {
            "image/png": "[encoded data removed]",
            "text/plain": [
              "<Figure size 1080x360 with 1 Axes>"
            ]
          },
          "metadata": {
            "tags": [],
            "needs_background": "light"
          }
        }
      ]
    },
    {
      "cell_type": "code",
      "metadata": {
        "id": "P1kmGdVU4knX",
        "colab": {
          "base_uri": "https://localhost:8080/"
        },
        "outputId": "66249067-16be-46d1-e8e9-b2754f5cfcc3"
      },
      "source": [
        "#4(a). identifying the generations with the lowest suicide cases on overall\n",
        "dfr = df2.groupby(['Generation'])['Suicide_rate'].sum()\n",
        "dfr = df4.sort_values(ascending = True)\n",
        "dfr.head()"
      ],
      "execution_count": 31,
      "outputs": [
        {
          "output_type": "execute_result",
          "data": {
            "text/plain": [
              "Generation\n",
              "Generation Z        0.205530\n",
              "Millenials          6.176117\n",
              "Boomers            12.234694\n",
              "Generation X       14.177935\n",
              "G.I. Generation    19.831630\n",
              "Name: Suicide_rate, dtype: float64"
            ]
          },
          "metadata": {
            "tags": []
          },
          "execution_count": 31
        }
      ]
    },
    {
      "cell_type": "code",
      "metadata": {
        "id": "ipJnCc1Px7vn",
        "colab": {
          "base_uri": "https://localhost:8080/"
        },
        "outputId": "fd0f4d74-fb12-443d-ba67-5a62692c0fd0"
      },
      "source": [
        "#4(b). identifying the generation with the lowest suicide cases before 2000\n",
        "dfzx = df2.loc[df2['Year'] < 2000]\n",
        "dfgh = dfzx.groupby(['Generation'])['Suicide_rate'].sum()\n",
        "dfgh = dfgh.sort_values(ascending = True)\n",
        "dfgh.head()"
      ],
      "execution_count": 32,
      "outputs": [
        {
          "output_type": "execute_result",
          "data": {
            "text/plain": [
              "Generation\n",
              "Millenials          0.237581\n",
              "Silent              5.828492\n",
              "Boomers             6.957737\n",
              "Generation X        7.879564\n",
              "G.I. Generation    18.292137\n",
              "Name: Suicide_rate, dtype: float64"
            ]
          },
          "metadata": {
            "tags": []
          },
          "execution_count": 32
        }
      ]
    },
    {
      "cell_type": "code",
      "metadata": {
        "id": "hwt0ln93yPxW",
        "colab": {
          "base_uri": "https://localhost:8080/"
        },
        "outputId": "62b82ef8-ab05-465f-86bc-e5bef973cbf0"
      },
      "source": [
        "#4(c). identifying the generation with the lowest suicide cases after 2000\n",
        "dfzx = df2.loc[df2['Year'] >= 2000]\n",
        "dfgh = dfzx.groupby(['Generation'])['Suicide_rate'].sum()\n",
        "dfgh = dfgh.sort_values(ascending = True)\n",
        "dfgh.head()"
      ],
      "execution_count": 33,
      "outputs": [
        {
          "output_type": "execute_result",
          "data": {
            "text/plain": [
              "Generation\n",
              "Generation Z       0.205530\n",
              "G.I. Generation    1.539493\n",
              "Boomers            5.276957\n",
              "Millenials         5.938536\n",
              "Generation X       6.298371\n",
              "Name: Suicide_rate, dtype: float64"
            ]
          },
          "metadata": {
            "tags": []
          },
          "execution_count": 33
        }
      ]
    },
    {
      "cell_type": "code",
      "metadata": {
        "id": "C5AYWNjS44De",
        "colab": {
          "base_uri": "https://localhost:8080/"
        },
        "outputId": "573f43a7-770c-4c86-81b3-2c054b3b2ad5"
      },
      "source": [
        "#5(a) Investigating which gender has more suicide rates compared to the other one on overall\n",
        "df5 = df2.groupby(['Sex'])['Suicides_no'].sum()\n",
        "df5 = df5.sort_values(ascending = False)\n",
        "df5.head()"
      ],
      "execution_count": 34,
      "outputs": [
        {
          "output_type": "execute_result",
          "data": {
            "text/plain": [
              "Sex\n",
              "male      217574.0\n",
              "female    138845.0\n",
              "Name: Suicides_no, dtype: float64"
            ]
          },
          "metadata": {
            "tags": []
          },
          "execution_count": 34
        }
      ]
    },
    {
      "cell_type": "code",
      "metadata": {
        "id": "bICBMo51NjFE",
        "colab": {
          "base_uri": "https://localhost:8080/",
          "height": 355
        },
        "outputId": "aa50c3c0-adfe-4e5a-8889-46105dfae484"
      },
      "source": [
        "#plotting for the female suicide cases scross different years on overall\n",
        "dfg = df2.loc[df2['Sex'] == 'female']\n",
        "plt.figure(figsize=(15,5))\n",
        "plt.bar(dfg.Year, dfg.Suicide_rate)\n",
        "plt.xlabel('Years')\n",
        "plt.ylabel('Suicide rates')"
      ],
      "execution_count": 35,
      "outputs": [
        {
          "output_type": "execute_result",
          "data": {
            "text/plain": [
              "Text(0, 0.5, 'Suicide rates')"
            ]
          },
          "metadata": {
            "tags": []
          },
          "execution_count": 35
        },
        {
          "output_type": "display_data",
          "data": {
            "image/png": "[encoded data removed]",
            "text/plain": [
              "<Figure size 1080x360 with 1 Axes>"
            ]
          },
          "metadata": {
            "tags": [],
            "needs_background": "light"
          }
        }
      ]
    },
    {
      "cell_type": "code",
      "metadata": {
        "id": "0s55VdqfOrp1",
        "colab": {
          "base_uri": "https://localhost:8080/",
          "height": 351
        },
        "outputId": "8397fbdf-b448-4992-e44f-a185c0e257c8"
      },
      "source": [
        "#plotting for the male suicide cases scross different years on overall\n",
        "dfp = df2.loc[df2['Sex'] == 'male']\n",
        "plt.figure(figsize=(15,5))\n",
        "plt.bar(dfp.Year, dfp.Suicide_rate)\n",
        "plt.xlabel('Years')\n",
        "plt.ylabel('Suicide rates')"
      ],
      "execution_count": 36,
      "outputs": [
        {
          "output_type": "execute_result",
          "data": {
            "text/plain": [
              "Text(0, 0.5, 'Suicide rates')"
            ]
          },
          "metadata": {
            "tags": []
          },
          "execution_count": 36
        },
        {
          "output_type": "display_data",
          "data": {
            "image/png": "[encoded data removed]",
            "text/plain": [
              "<Figure size 1080x360 with 1 Axes>"
            ]
          },
          "metadata": {
            "tags": [],
            "needs_background": "light"
          }
        }
      ]
    },
    {
      "cell_type": "code",
      "metadata": {
        "id": "XBeMtik05Qax",
        "colab": {
          "base_uri": "https://localhost:8080/"
        },
        "outputId": "fdb3c3ca-69d2-4ae3-e3bc-17525c66c9a2"
      },
      "source": [
        "#6(a). Knowing the age group which most people commit suicide on overall\n",
        "df6 = df2.groupby(['Age'])['Suicide_rate'].sum()\n",
        "df6 = df6.sort_values(ascending = False)\n",
        "df6.head()"
      ],
      "execution_count": 37,
      "outputs": [
        {
          "output_type": "execute_result",
          "data": {
            "text/plain": [
              "Age\n",
              "75+ years      30.884710\n",
              "55-74 years    13.241356\n",
              "25-34 years    11.979893\n",
              "35-54 years     9.932451\n",
              "15-24 years     9.738485\n",
              "Name: Suicide_rate, dtype: float64"
            ]
          },
          "metadata": {
            "tags": []
          },
          "execution_count": 37
        }
      ]
    },
    {
      "cell_type": "code",
      "metadata": {
        "id": "q7YiWnwmzeG4",
        "colab": {
          "base_uri": "https://localhost:8080/"
        },
        "outputId": "2a68d2cf-3b25-4cc4-b5d1-7c835c8ad8a7"
      },
      "source": [
        "#6(b). Knowing the age group which most people commit suicide before 2000\n",
        "dfzx = df2.loc[df2['Year'] < 2000]\n",
        "df6 = dfzx.groupby(['Age'])['Suicide_rate'].sum()\n",
        "df6 = df6.sort_values(ascending = False)\n",
        "df6.head()\n"
      ],
      "execution_count": 38,
      "outputs": [
        {
          "output_type": "execute_result",
          "data": {
            "text/plain": [
              "Age\n",
              "75+ years      16.653272\n",
              "25-34 years     6.258211\n",
              "55-74 years     6.198198\n",
              "15-24 years     5.003412\n",
              "35-54 years     4.765718\n",
              "Name: Suicide_rate, dtype: float64"
            ]
          },
          "metadata": {
            "tags": []
          },
          "execution_count": 38
        }
      ]
    },
    {
      "cell_type": "code",
      "metadata": {
        "id": "kMaGhfwUz5YK",
        "colab": {
          "base_uri": "https://localhost:8080/"
        },
        "outputId": "a7f217e3-69f5-479c-ab07-688d7a229671"
      },
      "source": [
        "#6(c). Knowing the age group which most people commit suicide after 2000\n",
        "dfzx = df2.loc[df2['Year'] >= 2000]\n",
        "df6 = dfzx.groupby(['Age'])['Suicide_rate'].sum()\n",
        "df6 = df6.sort_values(ascending = False)\n",
        "df6.head()"
      ],
      "execution_count": 39,
      "outputs": [
        {
          "output_type": "execute_result",
          "data": {
            "text/plain": [
              "Age\n",
              "75+ years      14.231438\n",
              "55-74 years     7.043158\n",
              "25-34 years     5.721682\n",
              "35-54 years     5.166732\n",
              "15-24 years     4.735074\n",
              "Name: Suicide_rate, dtype: float64"
            ]
          },
          "metadata": {
            "tags": []
          },
          "execution_count": 39
        }
      ]
    },
    {
      "cell_type": "code",
      "metadata": {
        "id": "6gEpBQcX6AQm",
        "colab": {
          "base_uri": "https://localhost:8080/"
        },
        "outputId": "4f85afe2-4629-4245-a47d-a2f314ad64ed"
      },
      "source": [
        "#7. Finding out the year where people committed suicide the most on overall\n",
        "df7 = df2.groupby(['Year'])['Suicides_no'].sum()\n",
        "df7 = df7.sort_values(ascending = False)\n",
        "df7.head()"
      ],
      "execution_count": 40,
      "outputs": [
        {
          "output_type": "execute_result",
          "data": {
            "text/plain": [
              "Year\n",
              "1995.0    16622.0\n",
              "1996.0    15538.0\n",
              "2001.0    15247.0\n",
              "1998.0    15128.0\n",
              "1999.0    14937.0\n",
              "Name: Suicides_no, dtype: float64"
            ]
          },
          "metadata": {
            "tags": []
          },
          "execution_count": 40
        }
      ]
    },
    {
      "cell_type": "code",
      "metadata": {
        "id": "-fC_5RoB67E0",
        "colab": {
          "base_uri": "https://localhost:8080/"
        },
        "outputId": "609c7151-7561-4411-b4b4-61e4ac4f5729"
      },
      "source": [
        "#8. Finding which countries has the most suicides commited at every 100,000 on overall.\n",
        "df8 = df2.groupby(['Country'])['Suicides_per_hundred_thousand_pop'].sum()\n",
        "df8 = df8.sort_values(ascending = False)\n",
        "df8.head()"
      ],
      "execution_count": 41,
      "outputs": [
        {
          "output_type": "execute_result",
          "data": {
            "text/plain": [
              "Country\n",
              "Estonia     6873.78\n",
              "Bulgaria    6259.83\n",
              "Croatia     5982.84\n",
              "Austria     4927.68\n",
              "Cuba        4591.86\n",
              "Name: Suicides_per_hundred_thousand_pop, dtype: float64"
            ]
          },
          "metadata": {
            "tags": []
          },
          "execution_count": 41
        }
      ]
    },
    {
      "cell_type": "code",
      "metadata": {
        "id": "WVty7K0bhpMi",
        "colab": {
          "base_uri": "https://localhost:8080/",
          "height": 290
        },
        "outputId": "fb42634b-8860-4b28-db77-c54962bcbe74"
      },
      "source": [
        "#Plotting for the population against Suicides_per_hundred_thousand_pop\n",
        "plt.figure(figsize=(20,5))\n",
        "\n",
        "plt.scatter(df2.Population, df2.Suicides_per_hundred_thousand_pop, color = 'red')\n",
        "plt.xlabel('Population')\n",
        "plt.ylabel('Suicides_per_hundred_thousand_pop')\n"
      ],
      "execution_count": 42,
      "outputs": [
        {
          "output_type": "execute_result",
          "data": {
            "text/plain": [
              "Text(0, 0.5, 'Suicides_per_hundred_thousand_pop')"
            ]
          },
          "metadata": {
            "tags": []
          },
          "execution_count": 42
        },
        {
          "output_type": "display_data",
          "data": {
            "image/png": "[encoded data removed]",
            "text/plain": [
              "<Figure size 1440x360 with 1 Axes>"
            ]
          },
          "metadata": {
            "tags": [],
            "needs_background": "light"
          }
        }
      ]
    },
    {
      "cell_type": "code",
      "metadata": {
        "id": "w7A2joW8BU3K",
        "colab": {
          "base_uri": "https://localhost:8080/"
        },
        "outputId": "586114db-df05-4410-da7c-acab3460692a"
      },
      "source": [
        "#9. Finding which countries has the least suicides commited at every 100,000 on overall\n",
        "dfi = df2.groupby(['Country'])['Suicides_per_hundred_thousand_pop'].sum()\n",
        "dfi = dfi.sort_values(ascending = True)\n",
        "dfi.head(7)"
      ],
      "execution_count": 43,
      "outputs": [
        {
          "output_type": "execute_result",
          "data": {
            "text/plain": [
              "Country\n",
              "Dominica                    0.00\n",
              "Bosnia and Herzegovina    110.81\n",
              "Cabo Verde                133.84\n",
              "Canada                    136.58\n",
              "Brazil                    144.86\n",
              "Antigua and Barbuda       179.14\n",
              "Bahamas                   344.28\n",
              "Name: Suicides_per_hundred_thousand_pop, dtype: float64"
            ]
          },
          "metadata": {
            "tags": []
          },
          "execution_count": 43
        }
      ]
    },
    {
      "cell_type": "code",
      "metadata": {
        "id": "xdlBvlU77yhs",
        "colab": {
          "base_uri": "https://localhost:8080/"
        },
        "outputId": "a1ea3624-c886-460f-9042-4677b7e12cd6"
      },
      "source": [
        "#10. Finding which Age groups has the most suicides commited at every 100,000 on overall\n",
        "df9 = df2.groupby(['Age'])['Suicides_per_hundred_thousand_pop'].sum()\n",
        "df9 = df9.sort_values(ascending = False)\n",
        "df9.head()"
      ],
      "execution_count": 44,
      "outputs": [
        {
          "output_type": "execute_result",
          "data": {
            "text/plain": [
              "Age\n",
              "75+ years      30884.56\n",
              "55-74 years    13241.27\n",
              "25-34 years    11979.96\n",
              "35-54 years     9932.40\n",
              "15-24 years     9738.53\n",
              "Name: Suicides_per_hundred_thousand_pop, dtype: float64"
            ]
          },
          "metadata": {
            "tags": []
          },
          "execution_count": 44
        }
      ]
    },
    {
      "cell_type": "code",
      "metadata": {
        "id": "gpnKeFRu8xdm",
        "colab": {
          "base_uri": "https://localhost:8080/",
          "height": 290
        },
        "outputId": "68b2662f-b3aa-4e8e-ec93-13ee92554fd2"
      },
      "source": [
        "#plotting the 75+ years suicide rate for exapmle a country otside africa\n",
        "dfx = df2.loc[df2['Age'] == '75+ years']\n",
        "\n",
        "dfb = dfx.loc[dfx['Country'] == 'Chile']\n",
        "plt.figure(figsize=(20,5))\n",
        "plt.plot(dfb.Year, dfb.Suicides_no, color = 'gold')\n",
        "plt.xlabel('year')\n",
        "plt.ylabel('Suicides numbers')"
      ],
      "execution_count": 45,
      "outputs": [
        {
          "output_type": "execute_result",
          "data": {
            "text/plain": [
              "Text(0, 0.5, 'Suicides numbers')"
            ]
          },
          "metadata": {
            "tags": []
          },
          "execution_count": 45
        },
        {
          "output_type": "display_data",
          "data": {
            "image/png": "[encoded data removed]",
            "text/plain": [
              "<Figure size 1440x360 with 1 Axes>"
            ]
          },
          "metadata": {
            "tags": [],
            "needs_background": "light"
          }
        }
      ]
    },
    {
      "cell_type": "code",
      "metadata": {
        "id": "EvxzST4xGbMb",
        "colab": {
          "base_uri": "https://localhost:8080/",
          "height": 287
        },
        "outputId": "2b11ebbb-500e-4b91-d894-4528a947ce94"
      },
      "source": [
        "#plotting the suicide rate with an african country (Mauritius)\n",
        "dfb = dfx.loc[dfx['Country'] == 'Mauritius']\n",
        "plt.figure(figsize=(20,5))\n",
        "plt.plot(dfb.Year, dfb.Suicides_no)\n",
        "plt.xlabel('year')\n",
        "plt.ylabel('Suicides numbers')"
      ],
      "execution_count": 46,
      "outputs": [
        {
          "output_type": "execute_result",
          "data": {
            "text/plain": [
              "Text(0, 0.5, 'Suicides numbers')"
            ]
          },
          "metadata": {
            "tags": []
          },
          "execution_count": 46
        },
        {
          "output_type": "display_data",
          "data": {
            "image/png": "[encoded data removed]",
            "text/plain": [
              "<Figure size 1440x360 with 1 Axes>"
            ]
          },
          "metadata": {
            "tags": [],
            "needs_background": "light"
          }
        }
      ]
    },
    {
      "cell_type": "code",
      "metadata": {
        "id": "Nm24rlgK3JWr",
        "colab": {
          "base_uri": "https://localhost:8080/"
        },
        "outputId": "0a1bc2ca-4d53-4e98-de85-28b6f4a2756a"
      },
      "source": [
        "#11. does the GDP affect a countries suicide rates? if so how? no overall\n",
        "df15 = df2.groupby(['Country', 'Suicides_no'])['Gdp_for_year'].sum()\n",
        "df16 = df15.sort_values(ascending=False)\n",
        "df16.head(10)\n",
        "#countries with high gdp have the lowest suicide cases"
      ],
      "execution_count": 47,
      "outputs": [
        {
          "output_type": "execute_result",
          "data": {
            "text/plain": [
              "Country    Suicides_no\n",
              "Greece     0.0            7.745288e+12\n",
              "Australia  4.0            2.597880e+12\n",
              "Greece     11.0           2.556851e+12\n",
              "Austria    2.0            2.300556e+12\n",
              "Greece     14.0           2.252498e+12\n",
              "Bahrain    0.0            2.222216e+12\n",
              "Greece     2.0            2.148060e+12\n",
              "Colombia   41.0           1.949038e+12\n",
              "Greece     12.0           1.895417e+12\n",
              "           1.0            1.769459e+12\n",
              "Name: Gdp_for_year, dtype: float64"
            ]
          },
          "metadata": {
            "tags": []
          },
          "execution_count": 47
        }
      ]
    },
    {
      "cell_type": "code",
      "metadata": {
        "id": "RR4gDwKUliNs",
        "colab": {
          "base_uri": "https://localhost:8080/",
          "height": 290
        },
        "outputId": "9bae7667-af04-4675-b32b-92f4a076f34f"
      },
      "source": [
        "#plotting Gdp_for_year against suicide rate\n",
        "plt.figure(figsize=(20,5))\n",
        "plt.scatter(df2.Gdp_for_year, df2.Suicide_rate)\n",
        "plt.xlabel('Gdp_for_year')\n",
        "plt.ylabel('Suicides rate')"
      ],
      "execution_count": 48,
      "outputs": [
        {
          "output_type": "execute_result",
          "data": {
            "text/plain": [
              "Text(0, 0.5, 'Suicides rate')"
            ]
          },
          "metadata": {
            "tags": []
          },
          "execution_count": 48
        },
        {
          "output_type": "display_data",
          "data": {
            "image/png": "[encoded data removed]",
            "text/plain": [
              "<Figure size 1440x360 with 1 Axes>"
            ]
          },
          "metadata": {
            "tags": [],
            "needs_background": "light"
          }
        }
      ]
    },
    {
      "cell_type": "code",
      "metadata": {
        "id": "uoJW0DsQ5S9c",
        "colab": {
          "base_uri": "https://localhost:8080/",
          "height": 278
        },
        "outputId": "040a2fb3-be2d-4ecf-fc49-d55eaffe5539"
      },
      "source": [
        "#12 how does population impact the suicide rates? on overall\n",
        "df17 = df2.groupby(['Country'])['Suicide_rate', 'Gdp_per_capita'].sum()\n",
        "df18 = df17.sort_values(by = 'Gdp_per_capita', ascending=False)\n",
        "df18.head()\n",
        "\n"
      ],
      "execution_count": 49,
      "outputs": [
        {
          "output_type": "stream",
          "text": [
            "/usr/local/lib/python3.6/dist-packages/ipykernel_launcher.py:2: FutureWarning: Indexing with multiple keys (implicitly converted to a tuple of keys) will be deprecated, use a list instead.\n",
            "  \n"
          ],
          "name": "stderr"
        },
        {
          "output_type": "execute_result",
          "data": {
            "text/html": [
              "<div>\n",
              "<style scoped>\n",
              "    .dataframe tbody tr th:only-of-type {\n",
              "        vertical-align: middle;\n",
              "    }\n",
              "\n",
              "    .dataframe tbody tr th {\n",
              "        vertical-align: top;\n",
              "    }\n",
              "\n",
              "    .dataframe thead th {\n",
              "        text-align: right;\n",
              "    }\n",
              "</style>\n",
              "<table border=\"1\" class=\"dataframe\">\n",
              "  <thead>\n",
              "    <tr style=\"text-align: right;\">\n",
              "      <th></th>\n",
              "      <th>Suicide_rate</th>\n",
              "      <th>Gdp_per_capita</th>\n",
              "    </tr>\n",
              "    <tr>\n",
              "      <th>Country</th>\n",
              "      <th></th>\n",
              "      <th></th>\n",
              "    </tr>\n",
              "  </thead>\n",
              "  <tbody>\n",
              "    <tr>\n",
              "      <th>Bahamas</th>\n",
              "      <td>0.344269</td>\n",
              "      <td>7130844.0</td>\n",
              "    </tr>\n",
              "    <tr>\n",
              "      <th>Greece</th>\n",
              "      <td>1.512228</td>\n",
              "      <td>6331212.0</td>\n",
              "    </tr>\n",
              "    <tr>\n",
              "      <th>Belgium</th>\n",
              "      <td>4.144869</td>\n",
              "      <td>5185010.0</td>\n",
              "    </tr>\n",
              "    <tr>\n",
              "      <th>Austria</th>\n",
              "      <td>4.927651</td>\n",
              "      <td>5182241.0</td>\n",
              "    </tr>\n",
              "    <tr>\n",
              "      <th>Cyprus</th>\n",
              "      <td>0.586233</td>\n",
              "      <td>4924944.0</td>\n",
              "    </tr>\n",
              "  </tbody>\n",
              "</table>\n",
              "</div>"
            ],
            "text/plain": [
              "         Suicide_rate  Gdp_per_capita\n",
              "Country                              \n",
              "Bahamas      0.344269       7130844.0\n",
              "Greece       1.512228       6331212.0\n",
              "Belgium      4.144869       5185010.0\n",
              "Austria      4.927651       5182241.0\n",
              "Cyprus       0.586233       4924944.0"
            ]
          },
          "metadata": {
            "tags": []
          },
          "execution_count": 49
        }
      ]
    },
    {
      "cell_type": "code",
      "metadata": {
        "id": "xik_qeIbn3-3",
        "colab": {
          "base_uri": "https://localhost:8080/",
          "height": 290
        },
        "outputId": "6f8f07ac-b96e-4397-d6e2-18690063de53"
      },
      "source": [
        "#plotting Gdp_per_capita against suicide_rate\n",
        "plt.figure(figsize=(20,5))\n",
        "plt.bar(df2.Gdp_per_capita, df2.Suicide_rate, color = 'purple')\n",
        "plt.xlabel('Gdp_per_capita')\n",
        "plt.ylabel('Suicides rate')"
      ],
      "execution_count": 50,
      "outputs": [
        {
          "output_type": "execute_result",
          "data": {
            "text/plain": [
              "Text(0, 0.5, 'Suicides rate')"
            ]
          },
          "metadata": {
            "tags": []
          },
          "execution_count": 50
        },
        {
          "output_type": "display_data",
          "data": {
            "image/png": "[encoded data removed]",
            "text/plain": [
              "<Figure size 1440x360 with 1 Axes>"
            ]
          },
          "metadata": {
            "tags": [],
            "needs_background": "light"
          }
        }
      ]
    }
  ]
}