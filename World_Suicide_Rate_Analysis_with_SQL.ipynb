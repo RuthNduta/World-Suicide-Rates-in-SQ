{
  "nbformat": 4,
  "nbformat_minor": 0,
  "metadata": {
    "colab": {
      "name": "World Suicide Rate Analysis with SQL",
      "provenance": [],
      "collapsed_sections": [],
      "include_colab_link": true
    },
    "kernelspec": {
      "name": "python3",
      "display_name": "Python 3"
    }
  },
  "cells": [
    {
      "cell_type": "markdown",
      "metadata": {
        "id": "view-in-github",
        "colab_type": "text"
      },
      "source": [
        "<a href=\"https://colab.research.google.com/github/RuthNduta/World-Suicide-Rates-in-SQ/blob/main/World_Suicide_Rate_Analysis_with_SQL.ipynb\" target=\"_parent\"><img src=\"https://colab.research.google.com/assets/colab-badge.svg\" alt=\"Open In Colab\"/></a>"
      ]
    },
    {
      "cell_type": "markdown",
      "metadata": {
        "id": "EZ4H0qK7o3Oc"
      },
      "source": [
        "# **SQL DATA CLEANING, OUTLIERS AND ANALYTICS**"
      ]
    },
    {
      "cell_type": "markdown",
      "metadata": {
        "id": "YZU_zGTspB4s"
      },
      "source": [
        "# **1. Connecting to our Database**"
      ]
    },
    {
      "cell_type": "code",
      "metadata": {
        "id": "Wtc6R2XIvIQ8",
        "colab": {
          "base_uri": "https://localhost:8080/",
          "height": 69
        },
        "outputId": "4a296dc3-690e-4d1b-e763-e6805aa3a2d6"
      },
      "source": [
        "#loading the sql extension into our environment\n",
        "%load_ext sql\n",
        "\n",
        "# Then connect to our in memory sqlite database\n",
        " \n",
        "%sql sqlite://"
      ],
      "execution_count": 2,
      "outputs": [
        {
          "output_type": "stream",
          "text": [
            "The sql extension is already loaded. To reload it, use:\n",
            "  %reload_ext sql\n"
          ],
          "name": "stdout"
        },
        {
          "output_type": "execute_result",
          "data": {
            "application/vnd.google.colaboratory.intrinsic+json": {
              "type": "string"
            },
            "text/plain": [
              "'Connected: @None'"
            ]
          },
          "metadata": {
            "tags": []
          },
          "execution_count": 2
        }
      ]
    },
    {
      "cell_type": "markdown",
      "metadata": {
        "id": "UFgLBwDnvkNz"
      },
      "source": [
        "# **2. Importing Data from CSV files**"
      ]
    },
    {
      "cell_type": "markdown",
      "metadata": {
        "id": "wJnY0njivhu6"
      },
      "source": [
        "The dataset we will use contains suicide cases from different countries in the world with different generations, age groups and other factors as outlined below."
      ]
    },
    {
      "cell_type": "code",
      "metadata": {
        "id": "82B0TrjxvxTg"
      },
      "source": [
        "# Importing the pandas library\n",
        "# We will use a function read_csv from pandas to read our datasets as shown\n",
        "#\n",
        "import pandas as pd "
      ],
      "execution_count": 3,
      "outputs": []
    },
    {
      "cell_type": "code",
      "metadata": {
        "id": "BW1wUmCFv0LO",
        "colab": {
          "base_uri": "https://localhost:8080/",
          "height": 394
        },
        "outputId": "7c88760c-5a40-4aa2-e6ef-a8760eec7db5"
      },
      "source": [
        "# Loading our table from the respective CSV files \n",
        "with open('/content/Suicide.csv','r') as f:\n",
        "    Suicide = pd.read_csv(f, index_col=0, encoding='utf-8')\n",
        "%sql DROP TABLE if EXISTS Suicide\n",
        "%sql PERSIST Suicide;\n",
        "%sql SELECT * FROM Suicide LIMIT 5;"
      ],
      "execution_count": 4,
      "outputs": [
        {
          "output_type": "stream",
          "text": [
            " * sqlite://\n",
            "Done.\n",
            " * sqlite://\n",
            " * sqlite://\n",
            "Done.\n"
          ],
          "name": "stdout"
        },
        {
          "output_type": "execute_result",
          "data": {
            "text/html": [
              "<table>\n",
              "    <thead>\n",
              "        <tr>\n",
              "            <th>index</th>\n",
              "            <th>Country</th>\n",
              "            <th>Year</th>\n",
              "            <th>Sex</th>\n",
              "            <th>Age</th>\n",
              "            <th>Suicides_no</th>\n",
              "            <th>Population</th>\n",
              "            <th>Suicides_per_hundred_thousand_pop</th>\n",
              "            <th>Gdp_for_year</th>\n",
              "            <th>Gdp_per_capita</th>\n",
              "            <th>Generation</th>\n",
              "            <th>Suicide_rate</th>\n",
              "        </tr>\n",
              "    </thead>\n",
              "    <tbody>\n",
              "        <tr>\n",
              "            <td>0</td>\n",
              "            <td>Albania</td>\n",
              "            <td>1987.0</td>\n",
              "            <td>male</td>\n",
              "            <td>15-24 years</td>\n",
              "            <td>21.0</td>\n",
              "            <td>312900.0</td>\n",
              "            <td>6.71</td>\n",
              "            <td>2156624900.0</td>\n",
              "            <td>796.0</td>\n",
              "            <td>Generation X</td>\n",
              "            <td>0.006711409395973153</td>\n",
              "        </tr>\n",
              "        <tr>\n",
              "            <td>1</td>\n",
              "            <td>Albania</td>\n",
              "            <td>1987.0</td>\n",
              "            <td>male</td>\n",
              "            <td>35-54 years</td>\n",
              "            <td>16.0</td>\n",
              "            <td>308000.0</td>\n",
              "            <td>5.19</td>\n",
              "            <td>2156624900.0</td>\n",
              "            <td>796.0</td>\n",
              "            <td>Silent</td>\n",
              "            <td>0.005194805194805196</td>\n",
              "        </tr>\n",
              "        <tr>\n",
              "            <td>2</td>\n",
              "            <td>Albania</td>\n",
              "            <td>1987.0</td>\n",
              "            <td>female</td>\n",
              "            <td>15-24 years</td>\n",
              "            <td>14.0</td>\n",
              "            <td>289700.0</td>\n",
              "            <td>4.83</td>\n",
              "            <td>2156624900.0</td>\n",
              "            <td>796.0</td>\n",
              "            <td>Generation X</td>\n",
              "            <td>0.004832585433206766</td>\n",
              "        </tr>\n",
              "        <tr>\n",
              "            <td>3</td>\n",
              "            <td>Albania</td>\n",
              "            <td>1987.0</td>\n",
              "            <td>male</td>\n",
              "            <td>75+ years</td>\n",
              "            <td>1.0</td>\n",
              "            <td>21800.0</td>\n",
              "            <td>4.59</td>\n",
              "            <td>2156624900.0</td>\n",
              "            <td>796.0</td>\n",
              "            <td>G.I. Generation</td>\n",
              "            <td>0.004587155963302753</td>\n",
              "        </tr>\n",
              "        <tr>\n",
              "            <td>4</td>\n",
              "            <td>Albania</td>\n",
              "            <td>1987.0</td>\n",
              "            <td>male</td>\n",
              "            <td>25-34 years</td>\n",
              "            <td>9.0</td>\n",
              "            <td>274300.0</td>\n",
              "            <td>3.28</td>\n",
              "            <td>2156624900.0</td>\n",
              "            <td>796.0</td>\n",
              "            <td>Boomers</td>\n",
              "            <td>0.0032810791104629965</td>\n",
              "        </tr>\n",
              "    </tbody>\n",
              "</table>"
            ],
            "text/plain": [
              "[(0, 'Albania', 1987.0, 'male', '15-24 years', 21.0, 312900.0, 6.71, 2156624900.0, 796.0, 'Generation X', 0.006711409395973153),\n",
              " (1, 'Albania', 1987.0, 'male', '35-54 years', 16.0, 308000.0, 5.19, 2156624900.0, 796.0, 'Silent', 0.005194805194805196),\n",
              " (2, 'Albania', 1987.0, 'female', '15-24 years', 14.0, 289700.0, 4.83, 2156624900.0, 796.0, 'Generation X', 0.004832585433206766),\n",
              " (3, 'Albania', 1987.0, 'male', '75+ years', 1.0, 21800.0, 4.59, 2156624900.0, 796.0, 'G.I. Generation', 0.004587155963302753),\n",
              " (4, 'Albania', 1987.0, 'male', '25-34 years', 9.0, 274300.0, 3.28, 2156624900.0, 796.0, 'Boomers', 0.0032810791104629965)]"
            ]
          },
          "metadata": {
            "tags": []
          },
          "execution_count": 4
        }
      ]
    },
    {
      "cell_type": "markdown",
      "metadata": {
        "id": "tqsNSD_mwkye"
      },
      "source": [
        "# **3. Analytics**"
      ]
    },
    {
      "cell_type": "code",
      "metadata": {
        "id": "Py_ji5P1zwmF",
        "colab": {
          "base_uri": "https://localhost:8080/",
          "height": 172
        },
        "outputId": "53968e1d-5559-416d-9802-01e2f3fbe19b"
      },
      "source": [
        "#1. identifying top 5 countries with the highest suicide cases in the world\n",
        "%%sql\n",
        "\n",
        "SELECT Country, SUM (Suicides_no) AS[Total Suicides]\n",
        "FROM Suicide \n",
        "GROUP BY Country\n",
        "ORDER BY SUM (Suicides_no) DESC LIMIT 5;"
      ],
      "execution_count": 15,
      "outputs": [
        {
          "output_type": "stream",
          "text": [
            " * sqlite://\n",
            "Done.\n"
          ],
          "name": "stdout"
        },
        {
          "output_type": "execute_result",
          "data": {
            "text/html": [
              "<table>\n",
              "    <thead>\n",
              "        <tr>\n",
              "            <th>Country</th>\n",
              "            <th>Total Suicides</th>\n",
              "        </tr>\n",
              "    </thead>\n",
              "    <tbody>\n",
              "        <tr>\n",
              "            <td>Bulgaria</td>\n",
              "            <td>29527.0</td>\n",
              "        </tr>\n",
              "        <tr>\n",
              "            <td>Chile</td>\n",
              "            <td>27581.0</td>\n",
              "        </tr>\n",
              "        <tr>\n",
              "            <td>Colombia</td>\n",
              "            <td>27149.0</td>\n",
              "        </tr>\n",
              "        <tr>\n",
              "            <td>Argentina</td>\n",
              "            <td>26775.0</td>\n",
              "        </tr>\n",
              "        <tr>\n",
              "            <td>Cuba</td>\n",
              "            <td>24092.0</td>\n",
              "        </tr>\n",
              "    </tbody>\n",
              "</table>"
            ],
            "text/plain": [
              "[('Bulgaria', 29527.0),\n",
              " ('Chile', 27581.0),\n",
              " ('Colombia', 27149.0),\n",
              " ('Argentina', 26775.0),\n",
              " ('Cuba', 24092.0)]"
            ]
          },
          "metadata": {
            "tags": []
          },
          "execution_count": 15
        }
      ]
    },
    {
      "cell_type": "code",
      "metadata": {
        "id": "k-xQMAYm3xMW",
        "colab": {
          "base_uri": "https://localhost:8080/",
          "height": 172
        },
        "outputId": "9d74fd74-ce14-40b6-d83e-a91c69c2aec1"
      },
      "source": [
        "#2. identifying top 5 countries with the lowest suicide cases in the world\n",
        "%%sql\n",
        "\n",
        "SELECT Country, SUM (Suicides_no) AS[Total Suicides]\n",
        "FROM Suicide \n",
        "GROUP BY Country\n",
        "ORDER BY SUM (Suicides_no) ASC LIMIT 5;"
      ],
      "execution_count": 16,
      "outputs": [
        {
          "output_type": "stream",
          "text": [
            " * sqlite://\n",
            "Done.\n"
          ],
          "name": "stdout"
        },
        {
          "output_type": "execute_result",
          "data": {
            "text/html": [
              "<table>\n",
              "    <thead>\n",
              "        <tr>\n",
              "            <th>Country</th>\n",
              "            <th>Total Suicides</th>\n",
              "        </tr>\n",
              "    </thead>\n",
              "    <tbody>\n",
              "        <tr>\n",
              "            <td>Dominica</td>\n",
              "            <td>0.0</td>\n",
              "        </tr>\n",
              "        <tr>\n",
              "            <td>Antigua and Barbuda</td>\n",
              "            <td>11.0</td>\n",
              "        </tr>\n",
              "        <tr>\n",
              "            <td>Grenada</td>\n",
              "            <td>38.0</td>\n",
              "        </tr>\n",
              "        <tr>\n",
              "            <td>Cabo Verde</td>\n",
              "            <td>42.0</td>\n",
              "        </tr>\n",
              "        <tr>\n",
              "            <td>Bahamas</td>\n",
              "            <td>93.0</td>\n",
              "        </tr>\n",
              "    </tbody>\n",
              "</table>"
            ],
            "text/plain": [
              "[('Dominica', 0.0),\n",
              " ('Antigua and Barbuda', 11.0),\n",
              " ('Grenada', 38.0),\n",
              " ('Cabo Verde', 42.0),\n",
              " ('Bahamas', 93.0)]"
            ]
          },
          "metadata": {
            "tags": []
          },
          "execution_count": 16
        }
      ]
    },
    {
      "cell_type": "code",
      "metadata": {
        "id": "fH3iFADI4ETQ",
        "colab": {
          "base_uri": "https://localhost:8080/",
          "height": 172
        },
        "outputId": "b3bf639e-3b54-427f-c1f9-f9f155d51caa"
      },
      "source": [
        "#3. identifying the generation with the highest suicide cases\n",
        "%%sql\n",
        "\n",
        "SELECT Generation, SUM (Suicide_rate) AS[Total Suicides]\n",
        "FROM Suicide \n",
        "GROUP BY Generation\n",
        "ORDER BY SUM (Suicide_rate) DESC LIMIT 5;"
      ],
      "execution_count": 17,
      "outputs": [
        {
          "output_type": "stream",
          "text": [
            " * sqlite://\n",
            "Done.\n"
          ],
          "name": "stdout"
        },
        {
          "output_type": "execute_result",
          "data": {
            "text/html": [
              "<table>\n",
              "    <thead>\n",
              "        <tr>\n",
              "            <th>Generation</th>\n",
              "            <th>Total Suicides</th>\n",
              "        </tr>\n",
              "    </thead>\n",
              "    <tbody>\n",
              "        <tr>\n",
              "            <td>Silent</td>\n",
              "            <td>23.892111671910023</td>\n",
              "        </tr>\n",
              "        <tr>\n",
              "            <td>G.I. Generation</td>\n",
              "            <td>19.831629970058355</td>\n",
              "        </tr>\n",
              "        <tr>\n",
              "            <td>Generation X</td>\n",
              "            <td>14.177934550694312</td>\n",
              "        </tr>\n",
              "        <tr>\n",
              "            <td>Boomers</td>\n",
              "            <td>12.234694338773634</td>\n",
              "        </tr>\n",
              "        <tr>\n",
              "            <td>Millenials</td>\n",
              "            <td>6.17611734874485</td>\n",
              "        </tr>\n",
              "    </tbody>\n",
              "</table>"
            ],
            "text/plain": [
              "[('Silent', 23.892111671910023),\n",
              " ('G.I. Generation', 19.831629970058355),\n",
              " ('Generation X', 14.177934550694312),\n",
              " ('Boomers', 12.234694338773634),\n",
              " ('Millenials', 6.17611734874485)]"
            ]
          },
          "metadata": {
            "tags": []
          },
          "execution_count": 17
        }
      ]
    },
    {
      "cell_type": "code",
      "metadata": {
        "id": "rgyuAfRg4b4Y",
        "colab": {
          "base_uri": "https://localhost:8080/",
          "height": 172
        },
        "outputId": "d364d17c-aad0-4ff6-e521-650b80c08bb5"
      },
      "source": [
        "#4. identifying the generations with the lowest suicide cases\n",
        "%%sql\n",
        "\n",
        "SELECT Generation, SUM (Suicide_rate) AS[Total Suicides]\n",
        "FROM Suicide \n",
        "GROUP BY Generation\n",
        "ORDER BY SUM (Suicide_rate) ASC LIMIT 5;"
      ],
      "execution_count": 18,
      "outputs": [
        {
          "output_type": "stream",
          "text": [
            " * sqlite://\n",
            "Done.\n"
          ],
          "name": "stdout"
        },
        {
          "output_type": "execute_result",
          "data": {
            "text/html": [
              "<table>\n",
              "    <thead>\n",
              "        <tr>\n",
              "            <th>Generation</th>\n",
              "            <th>Total Suicides</th>\n",
              "        </tr>\n",
              "    </thead>\n",
              "    <tbody>\n",
              "        <tr>\n",
              "            <td>Generation Z</td>\n",
              "            <td>0.20553024000182</td>\n",
              "        </tr>\n",
              "        <tr>\n",
              "            <td>Millenials</td>\n",
              "            <td>6.17611734874485</td>\n",
              "        </tr>\n",
              "        <tr>\n",
              "            <td>Boomers</td>\n",
              "            <td>12.234694338773634</td>\n",
              "        </tr>\n",
              "        <tr>\n",
              "            <td>Generation X</td>\n",
              "            <td>14.177934550694312</td>\n",
              "        </tr>\n",
              "        <tr>\n",
              "            <td>G.I. Generation</td>\n",
              "            <td>19.831629970058355</td>\n",
              "        </tr>\n",
              "    </tbody>\n",
              "</table>"
            ],
            "text/plain": [
              "[('Generation Z', 0.20553024000182),\n",
              " ('Millenials', 6.17611734874485),\n",
              " ('Boomers', 12.234694338773634),\n",
              " ('Generation X', 14.177934550694312),\n",
              " ('G.I. Generation', 19.831629970058355)]"
            ]
          },
          "metadata": {
            "tags": []
          },
          "execution_count": 18
        }
      ]
    },
    {
      "cell_type": "code",
      "metadata": {
        "id": "Y-x9oHKm4or8",
        "colab": {
          "base_uri": "https://localhost:8080/",
          "height": 112
        },
        "outputId": "d09959f5-ce10-493c-e28f-67c6c9169549"
      },
      "source": [
        "#5 Investigating which gender has more suicide rates compared to the other one\n",
        "%%sql\n",
        "\n",
        "SELECT Sex, SUM (Suicides_no) AS[Total Suicides]\n",
        "FROM Suicide \n",
        "GROUP BY Sex\n",
        "ORDER BY SUM (Suicides_no) DESC;"
      ],
      "execution_count": 20,
      "outputs": [
        {
          "output_type": "stream",
          "text": [
            " * sqlite://\n",
            "Done.\n"
          ],
          "name": "stdout"
        },
        {
          "output_type": "execute_result",
          "data": {
            "text/html": [
              "<table>\n",
              "    <thead>\n",
              "        <tr>\n",
              "            <th>Sex</th>\n",
              "            <th>Total Suicides</th>\n",
              "        </tr>\n",
              "    </thead>\n",
              "    <tbody>\n",
              "        <tr>\n",
              "            <td>male</td>\n",
              "            <td>217574.0</td>\n",
              "        </tr>\n",
              "        <tr>\n",
              "            <td>female</td>\n",
              "            <td>138845.0</td>\n",
              "        </tr>\n",
              "    </tbody>\n",
              "</table>"
            ],
            "text/plain": [
              "[('male', 217574.0), ('female', 138845.0)]"
            ]
          },
          "metadata": {
            "tags": []
          },
          "execution_count": 20
        }
      ]
    },
    {
      "cell_type": "code",
      "metadata": {
        "id": "6tlOKuyu4_Ta",
        "colab": {
          "base_uri": "https://localhost:8080/",
          "height": 192
        },
        "outputId": "14d759ca-7b66-4e88-fdd6-d421d81aacfc"
      },
      "source": [
        "#6. Knowing the age group which most people commit suicide\n",
        "%%sql\n",
        "\n",
        "SELECT Age, SUM (Suicides_no) AS[Total Suicides]\n",
        "FROM Suicide \n",
        "GROUP BY Age\n",
        "ORDER BY SUM (Suicide_rate) DESC"
      ],
      "execution_count": 23,
      "outputs": [
        {
          "output_type": "stream",
          "text": [
            " * sqlite://\n",
            "Done.\n"
          ],
          "name": "stdout"
        },
        {
          "output_type": "execute_result",
          "data": {
            "text/html": [
              "<table>\n",
              "    <thead>\n",
              "        <tr>\n",
              "            <th>Age</th>\n",
              "            <th>Total Suicides</th>\n",
              "        </tr>\n",
              "    </thead>\n",
              "    <tbody>\n",
              "        <tr>\n",
              "            <td>75+ years</td>\n",
              "            <td>57323.0</td>\n",
              "        </tr>\n",
              "        <tr>\n",
              "            <td>55-74 years</td>\n",
              "            <td>76860.0</td>\n",
              "        </tr>\n",
              "        <tr>\n",
              "            <td>25-34 years</td>\n",
              "            <td>70517.0</td>\n",
              "        </tr>\n",
              "        <tr>\n",
              "            <td>35-54 years</td>\n",
              "            <td>75472.0</td>\n",
              "        </tr>\n",
              "        <tr>\n",
              "            <td>15-24 years</td>\n",
              "            <td>68796.0</td>\n",
              "        </tr>\n",
              "        <tr>\n",
              "            <td>5-14 years</td>\n",
              "            <td>7451.0</td>\n",
              "        </tr>\n",
              "    </tbody>\n",
              "</table>"
            ],
            "text/plain": [
              "[('75+ years', 57323.0),\n",
              " ('55-74 years', 76860.0),\n",
              " ('25-34 years', 70517.0),\n",
              " ('35-54 years', 75472.0),\n",
              " ('15-24 years', 68796.0),\n",
              " ('5-14 years', 7451.0)]"
            ]
          },
          "metadata": {
            "tags": []
          },
          "execution_count": 23
        }
      ]
    },
    {
      "cell_type": "code",
      "metadata": {
        "id": "-0cPGFVN5NGT",
        "colab": {
          "base_uri": "https://localhost:8080/",
          "height": 712
        },
        "outputId": "e058284a-9ae6-446a-9c1a-d2e4b97dda74"
      },
      "source": [
        "#7. Finding out the year where people committed suicide the most\n",
        "%%sql\n",
        "\n",
        "SELECT Year, SUM (Suicides_no) AS[Total Suicides]\n",
        "FROM Suicide \n",
        "GROUP BY Year\n",
        "ORDER BY SUM (Suicides_no) DESC"
      ],
      "execution_count": 27,
      "outputs": [
        {
          "output_type": "stream",
          "text": [
            " * sqlite://\n",
            "Done.\n"
          ],
          "name": "stdout"
        },
        {
          "output_type": "execute_result",
          "data": {
            "text/html": [
              "<table>\n",
              "    <thead>\n",
              "        <tr>\n",
              "            <th>Year</th>\n",
              "            <th>Total Suicides</th>\n",
              "        </tr>\n",
              "    </thead>\n",
              "    <tbody>\n",
              "        <tr>\n",
              "            <td>1995.0</td>\n",
              "            <td>16622.0</td>\n",
              "        </tr>\n",
              "        <tr>\n",
              "            <td>1996.0</td>\n",
              "            <td>15538.0</td>\n",
              "        </tr>\n",
              "        <tr>\n",
              "            <td>2001.0</td>\n",
              "            <td>15247.0</td>\n",
              "        </tr>\n",
              "        <tr>\n",
              "            <td>1998.0</td>\n",
              "            <td>15128.0</td>\n",
              "        </tr>\n",
              "        <tr>\n",
              "            <td>1999.0</td>\n",
              "            <td>14937.0</td>\n",
              "        </tr>\n",
              "        <tr>\n",
              "            <td>1997.0</td>\n",
              "            <td>14745.0</td>\n",
              "        </tr>\n",
              "        <tr>\n",
              "            <td>2002.0</td>\n",
              "            <td>14680.0</td>\n",
              "        </tr>\n",
              "        <tr>\n",
              "            <td>2003.0</td>\n",
              "            <td>13893.0</td>\n",
              "        </tr>\n",
              "        <tr>\n",
              "            <td>2000.0</td>\n",
              "            <td>13834.0</td>\n",
              "        </tr>\n",
              "        <tr>\n",
              "            <td>1992.0</td>\n",
              "            <td>13697.0</td>\n",
              "        </tr>\n",
              "        <tr>\n",
              "            <td>1993.0</td>\n",
              "            <td>13488.0</td>\n",
              "        </tr>\n",
              "        <tr>\n",
              "            <td>1994.0</td>\n",
              "            <td>13208.0</td>\n",
              "        </tr>\n",
              "        <tr>\n",
              "            <td>1991.0</td>\n",
              "            <td>11959.0</td>\n",
              "        </tr>\n",
              "        <tr>\n",
              "            <td>1990.0</td>\n",
              "            <td>11689.0</td>\n",
              "        </tr>\n",
              "        <tr>\n",
              "            <td>2004.0</td>\n",
              "            <td>11195.0</td>\n",
              "        </tr>\n",
              "        <tr>\n",
              "            <td>1988.0</td>\n",
              "            <td>10399.0</td>\n",
              "        </tr>\n",
              "        <tr>\n",
              "            <td>1987.0</td>\n",
              "            <td>10398.0</td>\n",
              "        </tr>\n",
              "        <tr>\n",
              "            <td>2005.0</td>\n",
              "            <td>10276.0</td>\n",
              "        </tr>\n",
              "        <tr>\n",
              "            <td>1985.0</td>\n",
              "            <td>10215.0</td>\n",
              "        </tr>\n",
              "        <tr>\n",
              "            <td>1986.0</td>\n",
              "            <td>10123.0</td>\n",
              "        </tr>\n",
              "        <tr>\n",
              "            <td>2008.0</td>\n",
              "            <td>9786.0</td>\n",
              "        </tr>\n",
              "        <tr>\n",
              "            <td>2007.0</td>\n",
              "            <td>9562.0</td>\n",
              "        </tr>\n",
              "        <tr>\n",
              "            <td>2009.0</td>\n",
              "            <td>9400.0</td>\n",
              "        </tr>\n",
              "        <tr>\n",
              "            <td>1989.0</td>\n",
              "            <td>9221.0</td>\n",
              "        </tr>\n",
              "        <tr>\n",
              "            <td>2006.0</td>\n",
              "            <td>9127.0</td>\n",
              "        </tr>\n",
              "        <tr>\n",
              "            <td>2014.0</td>\n",
              "            <td>8491.0</td>\n",
              "        </tr>\n",
              "        <tr>\n",
              "            <td>2010.0</td>\n",
              "            <td>8482.0</td>\n",
              "        </tr>\n",
              "        <tr>\n",
              "            <td>2013.0</td>\n",
              "            <td>8200.0</td>\n",
              "        </tr>\n",
              "        <tr>\n",
              "            <td>2011.0</td>\n",
              "            <td>7747.0</td>\n",
              "        </tr>\n",
              "        <tr>\n",
              "            <td>2012.0</td>\n",
              "            <td>7627.0</td>\n",
              "        </tr>\n",
              "        <tr>\n",
              "            <td>2015.0</td>\n",
              "            <td>6106.0</td>\n",
              "        </tr>\n",
              "        <tr>\n",
              "            <td>2016.0</td>\n",
              "            <td>1399.0</td>\n",
              "        </tr>\n",
              "    </tbody>\n",
              "</table>"
            ],
            "text/plain": [
              "[(1995.0, 16622.0),\n",
              " (1996.0, 15538.0),\n",
              " (2001.0, 15247.0),\n",
              " (1998.0, 15128.0),\n",
              " (1999.0, 14937.0),\n",
              " (1997.0, 14745.0),\n",
              " (2002.0, 14680.0),\n",
              " (2003.0, 13893.0),\n",
              " (2000.0, 13834.0),\n",
              " (1992.0, 13697.0),\n",
              " (1993.0, 13488.0),\n",
              " (1994.0, 13208.0),\n",
              " (1991.0, 11959.0),\n",
              " (1990.0, 11689.0),\n",
              " (2004.0, 11195.0),\n",
              " (1988.0, 10399.0),\n",
              " (1987.0, 10398.0),\n",
              " (2005.0, 10276.0),\n",
              " (1985.0, 10215.0),\n",
              " (1986.0, 10123.0),\n",
              " (2008.0, 9786.0),\n",
              " (2007.0, 9562.0),\n",
              " (2009.0, 9400.0),\n",
              " (1989.0, 9221.0),\n",
              " (2006.0, 9127.0),\n",
              " (2014.0, 8491.0),\n",
              " (2010.0, 8482.0),\n",
              " (2013.0, 8200.0),\n",
              " (2011.0, 7747.0),\n",
              " (2012.0, 7627.0),\n",
              " (2015.0, 6106.0),\n",
              " (2016.0, 1399.0)]"
            ]
          },
          "metadata": {
            "tags": []
          },
          "execution_count": 27
        }
      ]
    },
    {
      "cell_type": "code",
      "metadata": {
        "id": "-llQ4utJ5bJP",
        "colab": {
          "base_uri": "https://localhost:8080/",
          "height": 172
        },
        "outputId": "e880b069-e796-41ad-c78f-dbdbb5b0ff14"
      },
      "source": [
        "#8. Finding which countries has the most suicides comited at every 100,000\n",
        "%%sql\n",
        "\n",
        "SELECT Country, \n",
        "SUM (Suicides_per_hundred_thousand_pop) \n",
        "FROM Suicide \n",
        "GROUP BY Country\n",
        "ORDER BY SUM (Suicides_per_hundred_thousand_pop) DESC\n",
        "limit 5;"
      ],
      "execution_count": 28,
      "outputs": [
        {
          "output_type": "stream",
          "text": [
            " * sqlite://\n",
            "Done.\n"
          ],
          "name": "stdout"
        },
        {
          "output_type": "execute_result",
          "data": {
            "text/html": [
              "<table>\n",
              "    <thead>\n",
              "        <tr>\n",
              "            <th>Country</th>\n",
              "            <th>SUM (Suicides_per_hundred_thousand_pop)</th>\n",
              "        </tr>\n",
              "    </thead>\n",
              "    <tbody>\n",
              "        <tr>\n",
              "            <td>Estonia</td>\n",
              "            <td>6873.780000000001</td>\n",
              "        </tr>\n",
              "        <tr>\n",
              "            <td>Bulgaria</td>\n",
              "            <td>6259.830000000009</td>\n",
              "        </tr>\n",
              "        <tr>\n",
              "            <td>Croatia</td>\n",
              "            <td>5982.84</td>\n",
              "        </tr>\n",
              "        <tr>\n",
              "            <td>Austria</td>\n",
              "            <td>4927.680000000001</td>\n",
              "        </tr>\n",
              "        <tr>\n",
              "            <td>Cuba</td>\n",
              "            <td>4591.8600000000015</td>\n",
              "        </tr>\n",
              "    </tbody>\n",
              "</table>"
            ],
            "text/plain": [
              "[('Estonia', 6873.780000000001),\n",
              " ('Bulgaria', 6259.830000000009),\n",
              " ('Croatia', 5982.84),\n",
              " ('Austria', 4927.680000000001),\n",
              " ('Cuba', 4591.8600000000015)]"
            ]
          },
          "metadata": {
            "tags": []
          },
          "execution_count": 28
        }
      ]
    },
    {
      "cell_type": "code",
      "metadata": {
        "id": "jTr7pTwCBtLy",
        "colab": {
          "base_uri": "https://localhost:8080/",
          "height": 212
        },
        "outputId": "8f7215c2-6b0e-49b8-9649-e088403b2cef"
      },
      "source": [
        "#9. Finding which countries has the leas suicides committed at every 100,000\n",
        "%%sql\n",
        "\n",
        "SELECT Country, \n",
        "SUM (Suicides_per_hundred_thousand_pop) \n",
        "FROM Suicide \n",
        "GROUP BY Country\n",
        "ORDER BY SUM (Suicides_per_hundred_thousand_pop) ASC\n",
        "limit 7;"
      ],
      "execution_count": 29,
      "outputs": [
        {
          "output_type": "stream",
          "text": [
            " * sqlite://\n",
            "Done.\n"
          ],
          "name": "stdout"
        },
        {
          "output_type": "execute_result",
          "data": {
            "text/html": [
              "<table>\n",
              "    <thead>\n",
              "        <tr>\n",
              "            <th>Country</th>\n",
              "            <th>SUM (Suicides_per_hundred_thousand_pop)</th>\n",
              "        </tr>\n",
              "    </thead>\n",
              "    <tbody>\n",
              "        <tr>\n",
              "            <td>Dominica</td>\n",
              "            <td>0.0</td>\n",
              "        </tr>\n",
              "        <tr>\n",
              "            <td>Bosnia and Herzegovina</td>\n",
              "            <td>110.81</td>\n",
              "        </tr>\n",
              "        <tr>\n",
              "            <td>Cabo Verde</td>\n",
              "            <td>133.84</td>\n",
              "        </tr>\n",
              "        <tr>\n",
              "            <td>Canada</td>\n",
              "            <td>136.57999999999998</td>\n",
              "        </tr>\n",
              "        <tr>\n",
              "            <td>Brazil</td>\n",
              "            <td>144.85999999999999</td>\n",
              "        </tr>\n",
              "        <tr>\n",
              "            <td>Antigua and Barbuda</td>\n",
              "            <td>179.14</td>\n",
              "        </tr>\n",
              "        <tr>\n",
              "            <td>Bahamas</td>\n",
              "            <td>344.28000000000003</td>\n",
              "        </tr>\n",
              "    </tbody>\n",
              "</table>"
            ],
            "text/plain": [
              "[('Dominica', 0.0),\n",
              " ('Bosnia and Herzegovina', 110.81),\n",
              " ('Cabo Verde', 133.84),\n",
              " ('Canada', 136.57999999999998),\n",
              " ('Brazil', 144.85999999999999),\n",
              " ('Antigua and Barbuda', 179.14),\n",
              " ('Bahamas', 344.28000000000003)]"
            ]
          },
          "metadata": {
            "tags": []
          },
          "execution_count": 29
        }
      ]
    },
    {
      "cell_type": "code",
      "metadata": {
        "id": "1hq2vM27AyAN",
        "colab": {
          "base_uri": "https://localhost:8080/",
          "height": 172
        },
        "outputId": "47d7b4e9-4f42-421a-f64e-140005a09d1f"
      },
      "source": [
        "#10. Finding which Age groups has the most suicides commited at every 100,000\n",
        "%%sql\n",
        "\n",
        "SELECT Age, \n",
        "SUM (Suicides_per_hundred_thousand_pop) \n",
        "FROM Suicide \n",
        "GROUP BY Age\n",
        "ORDER BY SUM (Suicides_per_hundred_thousand_pop) DESC\n",
        "limit 5;"
      ],
      "execution_count": 30,
      "outputs": [
        {
          "output_type": "stream",
          "text": [
            " * sqlite://\n",
            "Done.\n"
          ],
          "name": "stdout"
        },
        {
          "output_type": "execute_result",
          "data": {
            "text/html": [
              "<table>\n",
              "    <thead>\n",
              "        <tr>\n",
              "            <th>Age</th>\n",
              "            <th>SUM (Suicides_per_hundred_thousand_pop)</th>\n",
              "        </tr>\n",
              "    </thead>\n",
              "    <tbody>\n",
              "        <tr>\n",
              "            <td>75+ years</td>\n",
              "            <td>30884.559999999987</td>\n",
              "        </tr>\n",
              "        <tr>\n",
              "            <td>55-74 years</td>\n",
              "            <td>13241.269999999991</td>\n",
              "        </tr>\n",
              "        <tr>\n",
              "            <td>25-34 years</td>\n",
              "            <td>11979.960000000001</td>\n",
              "        </tr>\n",
              "        <tr>\n",
              "            <td>35-54 years</td>\n",
              "            <td>9932.399999999965</td>\n",
              "        </tr>\n",
              "        <tr>\n",
              "            <td>15-24 years</td>\n",
              "            <td>9738.529999999986</td>\n",
              "        </tr>\n",
              "    </tbody>\n",
              "</table>"
            ],
            "text/plain": [
              "[('75+ years', 30884.559999999987),\n",
              " ('55-74 years', 13241.269999999991),\n",
              " ('25-34 years', 11979.960000000001),\n",
              " ('35-54 years', 9932.399999999965),\n",
              " ('15-24 years', 9738.529999999986)]"
            ]
          },
          "metadata": {
            "tags": []
          },
          "execution_count": 30
        }
      ]
    }
  ]
}